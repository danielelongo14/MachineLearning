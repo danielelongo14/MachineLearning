{
 "cells": [
  {
   "cell_type": "code",
   "execution_count": 60,
   "id": "b915e2b4-3c47-4e75-9ab9-cfd778cc3238",
   "metadata": {
    "_cell_guid": "b1076dfc-b9ad-4769-8c92-a6c4dae69d19",
    "_uuid": "8f2839f25d086af736a60e9eeb907d3b93b6e0e5",
    "tags": []
   },
   "outputs": [
    {
     "name": "stdout",
     "output_type": "stream",
     "text": [
      "  PassengerId HomePlanet CryoSleep  Cabin  Destination   Age    VIP  \\\n",
      "0     0001_01     Europa     False  B/0/P  TRAPPIST-1e  39.0  False   \n",
      "1     0002_01      Earth     False  F/0/S  TRAPPIST-1e  24.0  False   \n",
      "2     0003_01     Europa     False  A/0/S  TRAPPIST-1e  58.0   True   \n",
      "3     0003_02     Europa     False  A/0/S  TRAPPIST-1e  33.0  False   \n",
      "4     0004_01      Earth     False  F/1/S  TRAPPIST-1e  16.0  False   \n",
      "\n",
      "   RoomService  FoodCourt  ShoppingMall     Spa  VRDeck               Name  \\\n",
      "0          0.0        0.0           0.0     0.0     0.0    Maham Ofracculy   \n",
      "1        109.0        9.0          25.0   549.0    44.0       Juanna Vines   \n",
      "2         43.0     3576.0           0.0  6715.0    49.0      Altark Susent   \n",
      "3          0.0     1283.0         371.0  3329.0   193.0       Solam Susent   \n",
      "4        303.0       70.0         151.0   565.0     2.0  Willy Santantines   \n",
      "\n",
      "   Transported  \n",
      "0        False  \n",
      "1         True  \n",
      "2        False  \n",
      "3        False  \n",
      "4         True  \n"
     ]
    }
   ],
   "source": [
    "\n",
    "import numpy as np # linear algebra\n",
    "import pandas as pd # data processing, CSV file I/O (e.g. pd.read_csv)\n",
    "\n",
    "\n",
    "import os\n",
    "#importing the dataset\n",
    "\n",
    "train = pd.read_csv(\"Downloads/SpaceShip Titanic/train.csv\")\n",
    "\n",
    "print(train.head())\n"
   ]
  },
  {
   "cell_type": "code",
   "execution_count": 18,
   "id": "26a5ff93-e9a5-4e31-ac2f-5a44cb618399",
   "metadata": {},
   "outputs": [
    {
     "data": {
      "text/plain": [
       "PassengerId       0\n",
       "HomePlanet      201\n",
       "CryoSleep       217\n",
       "Cabin           199\n",
       "Destination     182\n",
       "Age             179\n",
       "VIP             203\n",
       "RoomService     181\n",
       "FoodCourt       183\n",
       "ShoppingMall    208\n",
       "Spa             183\n",
       "VRDeck          188\n",
       "Name            200\n",
       "Transported       0\n",
       "dtype: int64"
      ]
     },
     "execution_count": 18,
     "metadata": {},
     "output_type": "execute_result"
    }
   ],
   "source": [
    "#counting null values\n",
    "\n",
    "train.isnull().sum()"
   ]
  },
  {
   "cell_type": "code",
   "execution_count": 19,
   "id": "1183e36d-60d0-45a0-b8f0-af35b60a8391",
   "metadata": {},
   "outputs": [
    {
     "name": "stdout",
     "output_type": "stream",
     "text": [
      "8693\n"
     ]
    }
   ],
   "source": [
    "print(train.PassengerId.count())"
   ]
  },
  {
   "cell_type": "code",
   "execution_count": 20,
   "id": "e483e7da-a002-4980-a2fc-c40a7dc48a76",
   "metadata": {},
   "outputs": [
    {
     "name": "stdout",
     "output_type": "stream",
     "text": [
      "      A/0/P  A/0/S  A/1/S  A/10/P  A/10/S  A/100/S  A/101/S  A/102/S  A/103/S  \\\n",
      "0         0      0      0       0       0        0        0        0        0   \n",
      "1         0      0      0       0       0        0        0        0        0   \n",
      "2         0      1      0       0       0        0        0        0        0   \n",
      "3         0      1      0       0       0        0        0        0        0   \n",
      "4         0      0      0       0       0        0        0        0        0   \n",
      "...     ...    ...    ...     ...     ...      ...      ...      ...      ...   \n",
      "8688      0      0      0       0       0        0        0        0        0   \n",
      "8689      0      0      0       0       0        0        0        0        0   \n",
      "8690      0      0      0       0       0        0        0        0        0   \n",
      "8691      0      0      0       0       0        0        0        0        0   \n",
      "8692      0      0      0       0       0        0        0        0        0   \n",
      "\n",
      "      A/104/S  ...  G/996/S  G/998/P  G/998/S  G/999/P  G/999/S  T/0/P  T/1/P  \\\n",
      "0           0  ...        0        0        0        0        0      0      0   \n",
      "1           0  ...        0        0        0        0        0      0      0   \n",
      "2           0  ...        0        0        0        0        0      0      0   \n",
      "3           0  ...        0        0        0        0        0      0      0   \n",
      "4           0  ...        0        0        0        0        0      0      0   \n",
      "...       ...  ...      ...      ...      ...      ...      ...    ...    ...   \n",
      "8688        0  ...        0        0        0        0        0      0      0   \n",
      "8689        0  ...        0        0        0        0        0      0      0   \n",
      "8690        0  ...        0        0        0        0        0      0      0   \n",
      "8691        0  ...        0        0        0        0        0      0      0   \n",
      "8692        0  ...        0        0        0        0        0      0      0   \n",
      "\n",
      "      T/2/P  T/2/S  T/3/P  \n",
      "0         0      0      0  \n",
      "1         0      0      0  \n",
      "2         0      0      0  \n",
      "3         0      0      0  \n",
      "4         0      0      0  \n",
      "...     ...    ...    ...  \n",
      "8688      0      0      0  \n",
      "8689      0      0      0  \n",
      "8690      0      0      0  \n",
      "8691      0      0      0  \n",
      "8692      0      0      0  \n",
      "\n",
      "[8693 rows x 6560 columns]\n"
     ]
    }
   ],
   "source": [
    "print(pd.get_dummies(train.Cabin))"
   ]
  },
  {
   "cell_type": "code",
   "execution_count": 21,
   "id": "098c8ebd-9e2b-4ed8-990b-ba43815e45c0",
   "metadata": {},
   "outputs": [
    {
     "name": "stdout",
     "output_type": "stream",
     "text": [
      "      55 Cancri e  PSO J318.5-22  TRAPPIST-1e\n",
      "0               0              0            1\n",
      "1               0              0            1\n",
      "2               0              0            1\n",
      "3               0              0            1\n",
      "4               0              0            1\n",
      "...           ...            ...          ...\n",
      "8688            1              0            0\n",
      "8689            0              1            0\n",
      "8690            0              0            1\n",
      "8691            1              0            0\n",
      "8692            0              0            1\n",
      "\n",
      "[8693 rows x 3 columns]\n"
     ]
    }
   ],
   "source": [
    "print(pd.get_dummies(train.Destination))"
   ]
  },
  {
   "cell_type": "code",
   "execution_count": 22,
   "id": "9602940c-43e7-464f-8fa2-7042d42ffda1",
   "metadata": {},
   "outputs": [],
   "source": [
    "print(pd.get_dummies(train.HomePlanet))"
   ]
  },
  {
   "cell_type": "code",
   "execution_count": 32,
   "id": "e7beb17c-8c27-404b-ae1e-668acd19f284",
   "metadata": {},
   "outputs": [],
   "source": [
    "colonne = [\"Age\",\"RoomService\",\"FoodCourt\",\"ShoppingMall\",\"Spa\",\"VRDeck\"]"
   ]
  },
  {
   "cell_type": "code",
   "execution_count": 39,
   "id": "e91410eb-507f-4ed0-b725-6ea89671b3e1",
   "metadata": {},
   "outputs": [],
   "source": [
    "train =transform_data(train)"
   ]
  },
  {
   "cell_type": "code",
   "execution_count": 44,
   "id": "088309df-6cc0-4e3b-bb23-0a036db54923",
   "metadata": {},
   "outputs": [
    {
     "name": "stdout",
     "output_type": "stream",
     "text": [
      "     PassengerId CryoSleep     Cabin    Destination   Age    VIP  RoomService  \\\n",
      "0        0001_01     False     B/0/P    TRAPPIST-1e  39.0  False          0.0   \n",
      "1        0002_01     False     F/0/S    TRAPPIST-1e  24.0  False        109.0   \n",
      "2        0003_01     False     A/0/S    TRAPPIST-1e  58.0   True         43.0   \n",
      "3        0003_02     False     A/0/S    TRAPPIST-1e  33.0  False          0.0   \n",
      "4        0004_01     False     F/1/S    TRAPPIST-1e  16.0  False        303.0   \n",
      "...          ...       ...       ...            ...   ...    ...          ...   \n",
      "8688     9276_01     False    A/98/P    55 Cancri e  41.0   True          0.0   \n",
      "8689     9278_01      True  G/1499/S  PSO J318.5-22  18.0  False          0.0   \n",
      "8690     9279_01     False  G/1500/S    TRAPPIST-1e  26.0  False          0.0   \n",
      "8691     9280_01     False   E/608/S    55 Cancri e  32.0  False          0.0   \n",
      "8692     9280_02     False   E/608/S    TRAPPIST-1e  44.0  False        126.0   \n",
      "\n",
      "      FoodCourt  ShoppingMall     Spa  VRDeck               Name  Transported  \\\n",
      "0           0.0           0.0     0.0     0.0    Maham Ofracculy        False   \n",
      "1           9.0          25.0   549.0    44.0       Juanna Vines         True   \n",
      "2        3576.0           0.0  6715.0    49.0      Altark Susent        False   \n",
      "3        1283.0         371.0  3329.0   193.0       Solam Susent        False   \n",
      "4          70.0         151.0   565.0     2.0  Willy Santantines         True   \n",
      "...         ...           ...     ...     ...                ...          ...   \n",
      "8688     6819.0           0.0  1643.0    74.0  Gravior Noxnuther        False   \n",
      "8689        0.0           0.0     0.0     0.0    Kurta Mondalley        False   \n",
      "8690        0.0        1872.0     1.0     0.0       Fayey Connon         True   \n",
      "8691     1049.0           0.0   353.0  3235.0   Celeon Hontichre        False   \n",
      "8692     4688.0           0.0     0.0    12.0   Propsh Hontichre         True   \n",
      "\n",
      "      Earth  Europa  Mars  \n",
      "0         0       1     0  \n",
      "1         1       0     0  \n",
      "2         0       1     0  \n",
      "3         0       1     0  \n",
      "4         1       0     0  \n",
      "...     ...     ...   ...  \n",
      "8688      0       1     0  \n",
      "8689      1       0     0  \n",
      "8690      1       0     0  \n",
      "8691      0       1     0  \n",
      "8692      0       1     0  \n",
      "\n",
      "[8693 rows x 16 columns]\n"
     ]
    }
   ],
   "source": [
    "print(train)"
   ]
  },
  {
   "cell_type": "code",
   "execution_count": 94,
   "id": "c15c5979-b093-4546-9210-828310490a99",
   "metadata": {},
   "outputs": [],
   "source": [
    "train = pd.get_dummies(train, prefix='', prefix_sep='', \n",
    "                            columns=[\"HomePlanet\"])\n",
    "\n",
    "train.Destination.replace(['55 Cancri e', 'PSO J318.5-22','TRAPPIST-1e'],\n",
    "                             [0,1,2], inplace=True)\n",
    "\n",
    "train.CryoSleep.replace([False,True,'nan'],[0,1,'nan'], inplace=True)"
   ]
  },
  {
   "cell_type": "code",
   "execution_count": 59,
   "id": "9a0bc966-e156-43ec-b4c1-49e64d5fca19",
   "metadata": {},
   "outputs": [
    {
     "name": "stdout",
     "output_type": "stream",
     "text": [
      "  PassengerId CryoSleep  Cabin  Destination   Age    VIP  RoomService  \\\n",
      "0     0001_01      None  B/0/P          2.0  39.0  False          0.0   \n",
      "1     0002_01      None  F/0/S          2.0  24.0  False        109.0   \n",
      "2     0003_01      None  A/0/S          2.0  58.0   True         43.0   \n",
      "3     0003_02      None  A/0/S          2.0  33.0  False          0.0   \n",
      "4     0004_01      None  F/1/S          2.0  16.0  False        303.0   \n",
      "\n",
      "   FoodCourt  ShoppingMall     Spa  VRDeck               Name  Transported  \\\n",
      "0        0.0           0.0     0.0     0.0    Maham Ofracculy        False   \n",
      "1        9.0          25.0   549.0    44.0       Juanna Vines         True   \n",
      "2     3576.0           0.0  6715.0    49.0      Altark Susent        False   \n",
      "3     1283.0         371.0  3329.0   193.0       Solam Susent        False   \n",
      "4       70.0         151.0   565.0     2.0  Willy Santantines         True   \n",
      "\n",
      "   Earth  Europa  Mars  \n",
      "0      0       1     0  \n",
      "1      1       0     0  \n",
      "2      0       1     0  \n",
      "3      0       1     0  \n",
      "4      1       0     0  \n"
     ]
    }
   ],
   "source": [
    "print(train.head())"
   ]
  },
  {
   "cell_type": "code",
   "execution_count": 67,
   "id": "b2585f59-2fc7-489e-acc1-f4340d157a27",
   "metadata": {},
   "outputs": [
    {
     "data": {
      "text/plain": [
       "array([ 0.,  1., nan])"
      ]
     },
     "execution_count": 67,
     "metadata": {},
     "output_type": "execute_result"
    }
   ],
   "source": [
    "train.CryoSleep.unique()"
   ]
  },
  {
   "cell_type": "code",
   "execution_count": 68,
   "id": "3367f1a9-a46f-4215-a351-2c6da32a9b5e",
   "metadata": {},
   "outputs": [],
   "source": [
    "train.VIP.replace([False,True],\n",
    "                             [0,1], inplace=True)\n",
    "    "
   ]
  },
  {
   "cell_type": "code",
   "execution_count": 69,
   "id": "93e9d341-91c4-4e3b-a3ce-b3d60ee7efdd",
   "metadata": {},
   "outputs": [
    {
     "data": {
      "text/plain": [
       "array([ 0.,  1., nan])"
      ]
     },
     "execution_count": 69,
     "metadata": {},
     "output_type": "execute_result"
    }
   ],
   "source": [
    "train.VIP.unique()"
   ]
  },
  {
   "cell_type": "code",
   "execution_count": 71,
   "id": "fa45322e-084f-4c20-8774-b241707d1a00",
   "metadata": {},
   "outputs": [],
   "source": [
    "train.Transported.replace([False,True],\n",
    "                             [0,1], inplace=True)"
   ]
  },
  {
   "cell_type": "code",
   "execution_count": 72,
   "id": "04ec5d23-902b-4b35-83df-3fb0abb666ac",
   "metadata": {},
   "outputs": [
    {
     "data": {
      "text/plain": [
       "array([0, 1], dtype=int64)"
      ]
     },
     "execution_count": 72,
     "metadata": {},
     "output_type": "execute_result"
    }
   ],
   "source": [
    "train.Transported.unique()"
   ]
  },
  {
   "cell_type": "code",
   "execution_count": 73,
   "id": "da9a0fd9-70cd-4f35-bce0-abe12479edc0",
   "metadata": {},
   "outputs": [],
   "source": [
    "train[[\"Cab_deck\",\"Cab_num\",\"Cab_side\"]] = train['Cabin'].str.split('/', expand=True)"
   ]
  },
  {
   "cell_type": "code",
   "execution_count": 75,
   "id": "3cd193c0-5e7c-4da5-984f-d0f16bdc66dc",
   "metadata": {},
   "outputs": [
    {
     "name": "stdout",
     "output_type": "stream",
     "text": [
      "     PassengerId HomePlanet  CryoSleep     Cabin    Destination   Age  VIP  \\\n",
      "0        0001_01     Europa        0.0     B/0/P    TRAPPIST-1e  39.0  0.0   \n",
      "1        0002_01      Earth        0.0     F/0/S    TRAPPIST-1e  24.0  0.0   \n",
      "2        0003_01     Europa        0.0     A/0/S    TRAPPIST-1e  58.0  1.0   \n",
      "3        0003_02     Europa        0.0     A/0/S    TRAPPIST-1e  33.0  0.0   \n",
      "4        0004_01      Earth        0.0     F/1/S    TRAPPIST-1e  16.0  0.0   \n",
      "...          ...        ...        ...       ...            ...   ...  ...   \n",
      "8688     9276_01     Europa        0.0    A/98/P    55 Cancri e  41.0  1.0   \n",
      "8689     9278_01      Earth        1.0  G/1499/S  PSO J318.5-22  18.0  0.0   \n",
      "8690     9279_01      Earth        0.0  G/1500/S    TRAPPIST-1e  26.0  0.0   \n",
      "8691     9280_01     Europa        0.0   E/608/S    55 Cancri e  32.0  0.0   \n",
      "8692     9280_02     Europa        0.0   E/608/S    TRAPPIST-1e  44.0  0.0   \n",
      "\n",
      "      RoomService  FoodCourt  ShoppingMall     Spa  VRDeck               Name  \\\n",
      "0             0.0        0.0           0.0     0.0     0.0    Maham Ofracculy   \n",
      "1           109.0        9.0          25.0   549.0    44.0       Juanna Vines   \n",
      "2            43.0     3576.0           0.0  6715.0    49.0      Altark Susent   \n",
      "3             0.0     1283.0         371.0  3329.0   193.0       Solam Susent   \n",
      "4           303.0       70.0         151.0   565.0     2.0  Willy Santantines   \n",
      "...           ...        ...           ...     ...     ...                ...   \n",
      "8688          0.0     6819.0           0.0  1643.0    74.0  Gravior Noxnuther   \n",
      "8689          0.0        0.0           0.0     0.0     0.0    Kurta Mondalley   \n",
      "8690          0.0        0.0        1872.0     1.0     0.0       Fayey Connon   \n",
      "8691          0.0     1049.0           0.0   353.0  3235.0   Celeon Hontichre   \n",
      "8692        126.0     4688.0           0.0     0.0    12.0   Propsh Hontichre   \n",
      "\n",
      "      Transported Cab_deck Cab_num Cab_side  \n",
      "0               0        B       0        P  \n",
      "1               1        F       0        S  \n",
      "2               0        A       0        S  \n",
      "3               0        A       0        S  \n",
      "4               1        F       1        S  \n",
      "...           ...      ...     ...      ...  \n",
      "8688            0        A      98        P  \n",
      "8689            0        G    1499        S  \n",
      "8690            1        G    1500        S  \n",
      "8691            0        E     608        S  \n",
      "8692            1        E     608        S  \n",
      "\n",
      "[8693 rows x 17 columns]\n"
     ]
    }
   ],
   "source": [
    "print(train)"
   ]
  },
  {
   "cell_type": "code",
   "execution_count": 76,
   "id": "18a94448-f8d6-4fcc-9ae9-e40dade801bb",
   "metadata": {},
   "outputs": [
    {
     "data": {
      "text/plain": [
       "array(['B', 'F', 'A', 'G', nan, 'E', 'D', 'C', 'T'], dtype=object)"
      ]
     },
     "execution_count": 76,
     "metadata": {},
     "output_type": "execute_result"
    }
   ],
   "source": [
    "train.Cab_deck.unique()"
   ]
  },
  {
   "cell_type": "code",
   "execution_count": 84,
   "id": "afc48b20-d6bb-4d11-b498-02883da4d8c7",
   "metadata": {},
   "outputs": [],
   "source": [
    "train.Cab_side.replace(['P', 'S'],\n",
    "                             [0,1], inplace=True)"
   ]
  },
  {
   "cell_type": "code",
   "execution_count": 80,
   "id": "6da5557d-83ff-48d1-b11a-de77a0794768",
   "metadata": {},
   "outputs": [],
   "source": [
    "for column in colonne:\n",
    "        train[column] = train[column]  / train[column].abs().max()"
   ]
  },
  {
   "cell_type": "code",
   "execution_count": 85,
   "id": "c0272b14-dfe7-44b6-a31f-5759560e9a3e",
   "metadata": {},
   "outputs": [],
   "source": [
    "print(train)"
   ]
  },
  {
   "cell_type": "code",
   "execution_count": 87,
   "id": "a667c413-1ff0-44b6-829e-8672667b3d6b",
   "metadata": {},
   "outputs": [],
   "source": [
    "train.drop(\"Cabin\",axis=1,inplace=True)"
   ]
  },
  {
   "cell_type": "code",
   "execution_count": 88,
   "id": "afe1f330-e4dd-48b8-bb24-6c0235620e6f",
   "metadata": {},
   "outputs": [],
   "source": [
    "train.drop(\"PassengerId\",axis=1,inplace=True)\n",
    "train.drop(\"Name\",axis=1,inplace=True)"
   ]
  },
  {
   "cell_type": "code",
   "execution_count": 95,
   "id": "9cee6889-d1f4-477b-894b-cb4ca4e38abb",
   "metadata": {},
   "outputs": [
    {
     "name": "stdout",
     "output_type": "stream",
     "text": [
      "      CryoSleep  Destination       Age  VIP  RoomService  FoodCourt  \\\n",
      "0           0.0          2.0  0.493671  0.0     0.000000   0.000000   \n",
      "1           0.0          2.0  0.303797  0.0     0.007608   0.000302   \n",
      "2           0.0          2.0  0.734177  1.0     0.003001   0.119948   \n",
      "3           0.0          2.0  0.417722  0.0     0.000000   0.043035   \n",
      "4           0.0          2.0  0.202532  0.0     0.021149   0.002348   \n",
      "...         ...          ...       ...  ...          ...        ...   \n",
      "8688        0.0          0.0  0.518987  1.0     0.000000   0.228726   \n",
      "8689        1.0          1.0  0.227848  0.0     0.000000   0.000000   \n",
      "8690        0.0          2.0  0.329114  0.0     0.000000   0.000000   \n",
      "8691        0.0          0.0  0.405063  0.0     0.000000   0.035186   \n",
      "8692        0.0          2.0  0.556962  0.0     0.008795   0.157247   \n",
      "\n",
      "      ShoppingMall       Spa    VRDeck  Transported  Cab_deck Cab_num  \\\n",
      "0         0.000000  0.000000  0.000000            0       0.0       0   \n",
      "1         0.001064  0.024500  0.001823            1       1.0       0   \n",
      "2         0.000000  0.299670  0.002030            0       2.0       0   \n",
      "3         0.015793  0.148563  0.007997            0       2.0       0   \n",
      "4         0.006428  0.025214  0.000083            1       1.0       1   \n",
      "...            ...       ...       ...          ...       ...     ...   \n",
      "8688      0.000000  0.073322  0.003066            0       2.0      98   \n",
      "8689      0.000000  0.000000  0.000000            0       3.0    1499   \n",
      "8690      0.079687  0.000045  0.000000            1       3.0    1500   \n",
      "8691      0.000000  0.015753  0.134049            0       4.0     608   \n",
      "8692      0.000000  0.000000  0.000497            1       4.0     608   \n",
      "\n",
      "      Cab_side  Earth  Europa  Mars  \n",
      "0          0.0      0       1     0  \n",
      "1          1.0      1       0     0  \n",
      "2          1.0      0       1     0  \n",
      "3          1.0      0       1     0  \n",
      "4          1.0      1       0     0  \n",
      "...        ...    ...     ...   ...  \n",
      "8688       0.0      0       1     0  \n",
      "8689       1.0      1       0     0  \n",
      "8690       1.0      1       0     0  \n",
      "8691       1.0      0       1     0  \n",
      "8692       1.0      0       1     0  \n",
      "\n",
      "[8693 rows x 16 columns]\n"
     ]
    }
   ],
   "source": [
    "print(train)"
   ]
  },
  {
   "cell_type": "code",
   "execution_count": 97,
   "id": "3fcc4779-db11-495c-b1e3-4168079d9ca2",
   "metadata": {},
   "outputs": [],
   "source": [
    "from sklearn.impute import SimpleImputer"
   ]
  },
  {
   "cell_type": "code",
   "execution_count": 105,
   "id": "153440cc-3a8f-49cb-8b0e-dcc734b4ba95",
   "metadata": {},
   "outputs": [],
   "source": [
    "train.dropna(inplace=True)"
   ]
  },
  {
   "cell_type": "code",
   "execution_count": 170,
   "id": "fab2df7c-b128-439b-bae7-ef9262cab6d9",
   "metadata": {},
   "outputs": [],
   "source": [
    "from sklearn.model_selection import train_test_split\n",
    "\n",
    "X = train[[\"CryoSleep\",\"Destination\",\"Age\",\"VIP\",\n",
    "           \"RoomService\",\"FoodCourt\",\"ShoppingMall\",\"Spa\",\"VRDeck\",\"Cab_deck\",\"Cab_num\",\"Cab_side\",\n",
    "           \"Earth\",\"Europa\",\"Mars\"]]\n",
    "y = train[[\"Transported\"]]    "
   ]
  },
  {
   "cell_type": "code",
   "execution_count": 171,
   "id": "b84b6b70-c47f-45f1-9e58-99456f3b059e",
   "metadata": {},
   "outputs": [],
   "source": [
    "X_train, X_test, y_train, y_test = train_test_split(X, y, train_size=0.8, test_size=0.2,\n",
    "                                                      random_state=0)"
   ]
  },
  {
   "cell_type": "code",
   "execution_count": 172,
   "id": "c22cb4c5-1233-41be-9054-a3540128166b",
   "metadata": {},
   "outputs": [
    {
     "name": "stderr",
     "output_type": "stream",
     "text": [
      "C:\\Users\\danie\\AppData\\Roaming\\jupyterlab-desktop\\jlab_server\\lib\\site-packages\\sklearn\\utils\\validation.py:1111: DataConversionWarning: A column-vector y was passed when a 1d array was expected. Please change the shape of y to (n_samples, ), for example using ravel().\n",
      "  y = column_or_1d(y, warn=True)\n"
     ]
    },
    {
     "data": {
      "text/html": [
       "<style>#sk-container-id-2 {color: black;background-color: white;}#sk-container-id-2 pre{padding: 0;}#sk-container-id-2 div.sk-toggleable {background-color: white;}#sk-container-id-2 label.sk-toggleable__label {cursor: pointer;display: block;width: 100%;margin-bottom: 0;padding: 0.3em;box-sizing: border-box;text-align: center;}#sk-container-id-2 label.sk-toggleable__label-arrow:before {content: \"▸\";float: left;margin-right: 0.25em;color: #696969;}#sk-container-id-2 label.sk-toggleable__label-arrow:hover:before {color: black;}#sk-container-id-2 div.sk-estimator:hover label.sk-toggleable__label-arrow:before {color: black;}#sk-container-id-2 div.sk-toggleable__content {max-height: 0;max-width: 0;overflow: hidden;text-align: left;background-color: #f0f8ff;}#sk-container-id-2 div.sk-toggleable__content pre {margin: 0.2em;color: black;border-radius: 0.25em;background-color: #f0f8ff;}#sk-container-id-2 input.sk-toggleable__control:checked~div.sk-toggleable__content {max-height: 200px;max-width: 100%;overflow: auto;}#sk-container-id-2 input.sk-toggleable__control:checked~label.sk-toggleable__label-arrow:before {content: \"▾\";}#sk-container-id-2 div.sk-estimator input.sk-toggleable__control:checked~label.sk-toggleable__label {background-color: #d4ebff;}#sk-container-id-2 div.sk-label input.sk-toggleable__control:checked~label.sk-toggleable__label {background-color: #d4ebff;}#sk-container-id-2 input.sk-hidden--visually {border: 0;clip: rect(1px 1px 1px 1px);clip: rect(1px, 1px, 1px, 1px);height: 1px;margin: -1px;overflow: hidden;padding: 0;position: absolute;width: 1px;}#sk-container-id-2 div.sk-estimator {font-family: monospace;background-color: #f0f8ff;border: 1px dotted black;border-radius: 0.25em;box-sizing: border-box;margin-bottom: 0.5em;}#sk-container-id-2 div.sk-estimator:hover {background-color: #d4ebff;}#sk-container-id-2 div.sk-parallel-item::after {content: \"\";width: 100%;border-bottom: 1px solid gray;flex-grow: 1;}#sk-container-id-2 div.sk-label:hover label.sk-toggleable__label {background-color: #d4ebff;}#sk-container-id-2 div.sk-serial::before {content: \"\";position: absolute;border-left: 1px solid gray;box-sizing: border-box;top: 0;bottom: 0;left: 50%;z-index: 0;}#sk-container-id-2 div.sk-serial {display: flex;flex-direction: column;align-items: center;background-color: white;padding-right: 0.2em;padding-left: 0.2em;position: relative;}#sk-container-id-2 div.sk-item {position: relative;z-index: 1;}#sk-container-id-2 div.sk-parallel {display: flex;align-items: stretch;justify-content: center;background-color: white;position: relative;}#sk-container-id-2 div.sk-item::before, #sk-container-id-2 div.sk-parallel-item::before {content: \"\";position: absolute;border-left: 1px solid gray;box-sizing: border-box;top: 0;bottom: 0;left: 50%;z-index: -1;}#sk-container-id-2 div.sk-parallel-item {display: flex;flex-direction: column;z-index: 1;position: relative;background-color: white;}#sk-container-id-2 div.sk-parallel-item:first-child::after {align-self: flex-end;width: 50%;}#sk-container-id-2 div.sk-parallel-item:last-child::after {align-self: flex-start;width: 50%;}#sk-container-id-2 div.sk-parallel-item:only-child::after {width: 0;}#sk-container-id-2 div.sk-dashed-wrapped {border: 1px dashed gray;margin: 0 0.4em 0.5em 0.4em;box-sizing: border-box;padding-bottom: 0.4em;background-color: white;}#sk-container-id-2 div.sk-label label {font-family: monospace;font-weight: bold;display: inline-block;line-height: 1.2em;}#sk-container-id-2 div.sk-label-container {text-align: center;}#sk-container-id-2 div.sk-container {/* jupyter's `normalize.less` sets `[hidden] { display: none; }` but bootstrap.min.css set `[hidden] { display: none !important; }` so we also need the `!important` here to be able to override the default hidden behavior on the sphinx rendered scikit-learn.org. See: https://github.com/scikit-learn/scikit-learn/issues/21755 */display: inline-block !important;position: relative;}#sk-container-id-2 div.sk-text-repr-fallback {display: none;}</style><div id=\"sk-container-id-2\" class=\"sk-top-container\"><div class=\"sk-text-repr-fallback\"><pre>SVC(C=3, kernel=&#x27;linear&#x27;)</pre><b>In a Jupyter environment, please rerun this cell to show the HTML representation or trust the notebook. <br />On GitHub, the HTML representation is unable to render, please try loading this page with nbviewer.org.</b></div><div class=\"sk-container\" hidden><div class=\"sk-item\"><div class=\"sk-estimator sk-toggleable\"><input class=\"sk-toggleable__control sk-hidden--visually\" id=\"sk-estimator-id-2\" type=\"checkbox\" checked><label for=\"sk-estimator-id-2\" class=\"sk-toggleable__label sk-toggleable__label-arrow\">SVC</label><div class=\"sk-toggleable__content\"><pre>SVC(C=3, kernel=&#x27;linear&#x27;)</pre></div></div></div></div></div>"
      ],
      "text/plain": [
       "SVC(C=3, kernel='linear')"
      ]
     },
     "execution_count": 172,
     "metadata": {},
     "output_type": "execute_result"
    }
   ],
   "source": [
    "from sklearn.svm import SVC\n",
    "\n",
    "model = SVC(kernel='linear',C=3)\n",
    "\n",
    "model.fit(X_train,y_train)"
   ]
  },
  {
   "cell_type": "code",
   "execution_count": 173,
   "id": "83dbc665-1118-4fcc-b90c-8e7db3d2f88f",
   "metadata": {},
   "outputs": [
    {
     "name": "stdout",
     "output_type": "stream",
     "text": [
      "0.7555875991348233\n"
     ]
    }
   ],
   "source": [
    "accuracy = model.score(X_test,y_test)\n",
    "print(accuracy)"
   ]
  },
  {
   "cell_type": "code",
   "execution_count": 155,
   "id": "44c90271-1dcb-4c3e-90b7-ab7c170a40e2",
   "metadata": {},
   "outputs": [],
   "source": [
    "test = pd.read_csv(\"Downloads/SpaceShip Titanic/test.csv\")"
   ]
  },
  {
   "cell_type": "code",
   "execution_count": 152,
   "id": "74fd87f6-efe0-4001-858a-21f9825d5900",
   "metadata": {},
   "outputs": [],
   "source": [
    "id = test.PassengerId"
   ]
  },
  {
   "cell_type": "code",
   "execution_count": 131,
   "id": "26292ae3-110a-46d0-8fab-d7e9ca854adb",
   "metadata": {},
   "outputs": [
    {
     "name": "stdout",
     "output_type": "stream",
     "text": [
      "     PassengerId HomePlanet CryoSleep     Cabin    Destination   Age    VIP  \\\n",
      "0        0013_01      Earth      True     G/3/S    TRAPPIST-1e  27.0  False   \n",
      "1        0018_01      Earth     False     F/4/S    TRAPPIST-1e  19.0  False   \n",
      "2        0019_01     Europa      True     C/0/S    55 Cancri e  31.0  False   \n",
      "3        0021_01     Europa     False     C/1/S    TRAPPIST-1e  38.0  False   \n",
      "4        0023_01      Earth     False     F/5/S    TRAPPIST-1e  20.0  False   \n",
      "...          ...        ...       ...       ...            ...   ...    ...   \n",
      "4272     9266_02      Earth      True  G/1496/S    TRAPPIST-1e  34.0  False   \n",
      "4273     9269_01      Earth     False       NaN    TRAPPIST-1e  42.0  False   \n",
      "4274     9271_01       Mars      True   D/296/P    55 Cancri e   NaN  False   \n",
      "4275     9273_01     Europa     False   D/297/P            NaN   NaN  False   \n",
      "4276     9277_01      Earth      True  G/1498/S  PSO J318.5-22  43.0  False   \n",
      "\n",
      "      RoomService  FoodCourt  ShoppingMall     Spa  VRDeck              Name  \n",
      "0             0.0        0.0           0.0     0.0     0.0   Nelly Carsoning  \n",
      "1             0.0        9.0           0.0  2823.0     0.0    Lerome Peckers  \n",
      "2             0.0        0.0           0.0     0.0     0.0   Sabih Unhearfus  \n",
      "3             0.0     6652.0           0.0   181.0   585.0  Meratz Caltilter  \n",
      "4            10.0        0.0         635.0     0.0     0.0   Brence Harperez  \n",
      "...           ...        ...           ...     ...     ...               ...  \n",
      "4272          0.0        0.0           0.0     0.0     0.0       Jeron Peter  \n",
      "4273          0.0      847.0          17.0    10.0   144.0     Matty Scheron  \n",
      "4274          0.0        0.0           0.0     0.0     0.0       Jayrin Pore  \n",
      "4275          0.0     2680.0           0.0     0.0   523.0    Kitakan Conale  \n",
      "4276          0.0        0.0           0.0     0.0     0.0  Lilace Leonzaley  \n",
      "\n",
      "[4277 rows x 13 columns]\n"
     ]
    }
   ],
   "source": [
    "print(test)"
   ]
  },
  {
   "cell_type": "code",
   "execution_count": 153,
   "id": "02a045f1-421a-4d83-8586-7a1f4073680a",
   "metadata": {},
   "outputs": [
    {
     "data": {
      "text/plain": [
       "PassengerId     4277\n",
       "HomePlanet      4190\n",
       "CryoSleep       4184\n",
       "Cabin           4177\n",
       "Destination     4185\n",
       "Age             4186\n",
       "VIP             4184\n",
       "RoomService     4195\n",
       "FoodCourt       4171\n",
       "ShoppingMall    4179\n",
       "Spa             4176\n",
       "VRDeck          4197\n",
       "Name            4183\n",
       "dtype: int64"
      ]
     },
     "execution_count": 153,
     "metadata": {},
     "output_type": "execute_result"
    }
   ],
   "source": [
    "test.count()"
   ]
  },
  {
   "cell_type": "code",
   "execution_count": 156,
   "id": "9ed4b1fe-7ae7-45f4-9a2a-50696645e4d2",
   "metadata": {},
   "outputs": [
    {
     "name": "stdout",
     "output_type": "stream",
     "text": [
      "PassengerId       0\n",
      "HomePlanet       87\n",
      "CryoSleep        93\n",
      "Cabin           100\n",
      "Destination      92\n",
      "Age               0\n",
      "VIP              93\n",
      "RoomService       0\n",
      "FoodCourt         0\n",
      "ShoppingMall      0\n",
      "Spa               0\n",
      "VRDeck            0\n",
      "Name             94\n",
      "dtype: int64\n"
     ]
    }
   ],
   "source": [
    "for colonna in colonne:\n",
    "    mean_value = test[colonna].mean()\n",
    "    test[colonna].fillna(value=mean_value, inplace=True)\n",
    "    \n",
    "print(test.isnull().sum())"
   ]
  },
  {
   "cell_type": "code",
   "execution_count": 157,
   "id": "e5e828e0-16d6-45f4-a74d-b1b5d0c22a01",
   "metadata": {},
   "outputs": [
    {
     "name": "stdout",
     "output_type": "stream",
     "text": [
      "PassengerId     0\n",
      "HomePlanet      0\n",
      "CryoSleep       0\n",
      "Cabin           0\n",
      "Destination     0\n",
      "Age             0\n",
      "VIP             0\n",
      "RoomService     0\n",
      "FoodCourt       0\n",
      "ShoppingMall    0\n",
      "Spa             0\n",
      "VRDeck          0\n",
      "Name            0\n",
      "dtype: int64\n"
     ]
    }
   ],
   "source": [
    "test.bfill(axis=None, inplace=True, limit=None, downcast=None)\n",
    "print(test.isnull().sum())"
   ]
  },
  {
   "cell_type": "code",
   "execution_count": 158,
   "id": "daf0bef7-e4b4-4991-8777-e323cc396071",
   "metadata": {},
   "outputs": [],
   "source": [
    "#transform test dataset\n",
    "\n",
    "test = pd.get_dummies(test, prefix='', prefix_sep='', \n",
    "                            columns=[\"HomePlanet\"])"
   ]
  },
  {
   "cell_type": "code",
   "execution_count": 159,
   "id": "13f41fda-af8b-4538-9677-801549127842",
   "metadata": {},
   "outputs": [],
   "source": [
    "test.Destination.replace(['55 Cancri e', 'PSO J318.5-22','TRAPPIST-1e'],\n",
    "                             [0,1,2], inplace=True)\n",
    "\n",
    "test.CryoSleep.replace([False,True,'nan'],[0,1,'nan'], inplace=True)\n",
    "\n",
    "test.VIP.replace([False,True],\n",
    "                             [0,1], inplace=True)\n",
    "\n",
    "test[[\"Cab_deck\",\"Cab_num\",\"Cab_side\"]] = test['Cabin'].str.split('/', expand=True)\n",
    "\n",
    "test.Cab_side.replace(['P', 'S'],\n",
    "                             [0,1], inplace=True)\n",
    "\n",
    "for column in colonne:\n",
    "        test[column] = test[column]  / test[column].abs().max()\n",
    "        \n",
    "test.drop(\"Cabin\",axis=1,inplace=True)\n",
    "\n",
    "test.drop(\"PassengerId\",axis=1,inplace=True)\n",
    "\n",
    "test.drop(\"Name\",axis=1,inplace=True)"
   ]
  },
  {
   "cell_type": "code",
   "execution_count": 165,
   "id": "1be491df-f477-4a8c-8717-76a089fa4c1c",
   "metadata": {},
   "outputs": [],
   "source": [
    "test.Cab_deck.replace(['B', 'F', 'A', 'G', 'E', 'D', 'C', 'T'],\n",
    "                             [0,1,2,3,4,5,6,7], inplace=True)\n",
    "    \n",
    "test.Cab_side.replace(['P', 'S'],\n",
    "                             [0,1], inplace=True)"
   ]
  },
  {
   "cell_type": "code",
   "execution_count": 166,
   "id": "5f43b6d1-b910-4d0d-843a-9e61df7e5475",
   "metadata": {},
   "outputs": [
    {
     "name": "stdout",
     "output_type": "stream",
     "text": [
      "      CryoSleep  Destination       Age  VIP  RoomService  FoodCourt  \\\n",
      "0             1            2  0.341772    0     0.000000   0.000000   \n",
      "1             0            2  0.240506    0     0.000000   0.000356   \n",
      "2             1            0  0.392405    0     0.000000   0.000000   \n",
      "3             0            2  0.481013    0     0.000000   0.263206   \n",
      "4             0            2  0.253165    0     0.000865   0.000000   \n",
      "...         ...          ...       ...  ...          ...        ...   \n",
      "4272          1            2  0.430380    0     0.000000   0.000000   \n",
      "4273          0            2  0.531646    0     0.000000   0.033514   \n",
      "4274          1            0  0.362761    0     0.000000   0.000000   \n",
      "4275          0            1  0.362761    0     0.000000   0.106042   \n",
      "4276          1            1  0.544304    0     0.000000   0.000000   \n",
      "\n",
      "      ShoppingMall       Spa    VRDeck  Earth  Europa  Mars  Cab_deck Cab_num  \\\n",
      "0          0.00000  0.000000  0.000000      1       0     0         3       3   \n",
      "1          0.00000  0.142260  0.000000      1       0     0         1       4   \n",
      "2          0.00000  0.000000  0.000000      0       1     0         6       0   \n",
      "3          0.00000  0.009121  0.026266      0       1     0         6       1   \n",
      "4          0.07658  0.000000  0.000000      1       0     0         1       5   \n",
      "...            ...       ...       ...    ...     ...   ...       ...     ...   \n",
      "4272       0.00000  0.000000  0.000000      1       0     0         3    1496   \n",
      "4273       0.00205  0.000504  0.006466      1       0     0         5     296   \n",
      "4274       0.00000  0.000000  0.000000      0       0     1         5     296   \n",
      "4275       0.00000  0.000000  0.023482      0       1     0         5     297   \n",
      "4276       0.00000  0.000000  0.000000      1       0     0         3    1498   \n",
      "\n",
      "      Cab_side  \n",
      "0            1  \n",
      "1            1  \n",
      "2            1  \n",
      "3            1  \n",
      "4            1  \n",
      "...        ...  \n",
      "4272         1  \n",
      "4273         0  \n",
      "4274         0  \n",
      "4275         0  \n",
      "4276         1  \n",
      "\n",
      "[4277 rows x 15 columns]\n"
     ]
    }
   ],
   "source": [
    "print(test)"
   ]
  },
  {
   "cell_type": "code",
   "execution_count": 174,
   "id": "8ebd180f-5c40-44d1-9558-4d1495318e1f",
   "metadata": {},
   "outputs": [
    {
     "name": "stdout",
     "output_type": "stream",
     "text": [
      "[1 1 1 ... 1 1 1]\n"
     ]
    },
    {
     "name": "stderr",
     "output_type": "stream",
     "text": [
      "C:\\Users\\danie\\AppData\\Roaming\\jupyterlab-desktop\\jlab_server\\lib\\site-packages\\sklearn\\base.py:493: FutureWarning: The feature names should match those that were passed during fit. Starting version 1.2, an error will be raised.\n",
      "Feature names must be in the same order as they were in fit.\n",
      "\n",
      "  warnings.warn(message, FutureWarning)\n"
     ]
    }
   ],
   "source": [
    "result = model.predict(test)\n",
    "print(result)"
   ]
  },
  {
   "cell_type": "code",
   "execution_count": 184,
   "id": "5e996d54-2084-4542-8f91-b6c59d52e9ef",
   "metadata": {},
   "outputs": [],
   "source": [
    "print(id.shape)\n",
    "print(result.shape)"
   ]
  },
  {
   "cell_type": "code",
   "execution_count": 200,
   "id": "8c24c5b6-b695-4a36-a246-3dc378d02e19",
   "metadata": {},
   "outputs": [],
   "source": [
    "predictions= pd.DataFrame({\"PassengerId\":id,\"Survived\":result}, columns = ['PassengerId','Survived'])"
   ]
  },
  {
   "cell_type": "code",
   "execution_count": 201,
   "id": "ea97b4d0-c33f-4963-828c-e1863088408e",
   "metadata": {},
   "outputs": [
    {
     "name": "stdout",
     "output_type": "stream",
     "text": [
      "     PassengerId  Survived\n",
      "0        0013_01         1\n",
      "1        0018_01         1\n",
      "2        0019_01         1\n",
      "3        0021_01         0\n",
      "4        0023_01         1\n",
      "...          ...       ...\n",
      "4272     9266_02         1\n",
      "4273     9269_01         1\n",
      "4274     9271_01         1\n",
      "4275     9273_01         1\n",
      "4276     9277_01         1\n",
      "\n",
      "[4277 rows x 2 columns]\n"
     ]
    }
   ],
   "source": [
    "print(predictions)"
   ]
  },
  {
   "cell_type": "code",
   "execution_count": 202,
   "id": "5eb6d11e-e04c-42b8-8eda-7fd30110923e",
   "metadata": {},
   "outputs": [
    {
     "name": "stdout",
     "output_type": "stream",
     "text": [
      "     PassengerId  Survived\n",
      "0        0013_01      True\n",
      "1        0018_01      True\n",
      "2        0019_01      True\n",
      "3        0021_01     False\n",
      "4        0023_01      True\n",
      "...          ...       ...\n",
      "4272     9266_02      True\n",
      "4273     9269_01      True\n",
      "4274     9271_01      True\n",
      "4275     9273_01      True\n",
      "4276     9277_01      True\n",
      "\n",
      "[4277 rows x 2 columns]\n"
     ]
    }
   ],
   "source": [
    "predictions.Survived.replace([0,1],\n",
    "                             [False,True], inplace=True)\n",
    "\n",
    "print(predictions)"
   ]
  },
  {
   "cell_type": "code",
   "execution_count": 197,
   "id": "586c4f8b-b3bc-4534-b655-bdee3608fe06",
   "metadata": {},
   "outputs": [],
   "source": [
    "predictions = predictions.reset_index(drop=True, inplace=True)"
   ]
  },
  {
   "cell_type": "code",
   "execution_count": 203,
   "id": "74df6578-40f5-4224-8476-db374674910a",
   "metadata": {},
   "outputs": [],
   "source": [
    "predictions.to_csv('Downloads/SpaceShip Titanic/predictions.csv',index=False)"
   ]
  },
  {
   "cell_type": "code",
   "execution_count": null,
   "id": "abf2acb2-0aaf-445d-892f-d666fb79848c",
   "metadata": {},
   "outputs": [],
   "source": []
  }
 ],
 "metadata": {
  "kernelspec": {
   "display_name": "Python 3 (ipykernel)",
   "language": "python",
   "name": "python3"
  },
  "language_info": {
   "codemirror_mode": {
    "name": "ipython",
    "version": 3
   },
   "file_extension": ".py",
   "mimetype": "text/x-python",
   "name": "python",
   "nbconvert_exporter": "python",
   "pygments_lexer": "ipython3",
   "version": "3.8.13"
  }
 },
 "nbformat": 4,
 "nbformat_minor": 5
}
