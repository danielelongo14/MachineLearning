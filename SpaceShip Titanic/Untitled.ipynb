{
 "cells": [
  {
   "cell_type": "code",
   "execution_count": 5,
   "id": "434a1908-3ea5-49c8-a157-5176f82050ca",
   "metadata": {
    "_cell_guid": "b1076dfc-b9ad-4769-8c92-a6c4dae69d19",
    "_uuid": "8f2839f25d086af736a60e9eeb907d3b93b6e0e5",
    "tags": []
   },
   "outputs": [
    {
     "name": "stdout",
     "output_type": "stream",
     "text": [
      "  PassengerId HomePlanet CryoSleep  Cabin  Destination   Age    VIP  \\\n",
      "0     0001_01     Europa     False  B/0/P  TRAPPIST-1e  39.0  False   \n",
      "1     0002_01      Earth     False  F/0/S  TRAPPIST-1e  24.0  False   \n",
      "2     0003_01     Europa     False  A/0/S  TRAPPIST-1e  58.0   True   \n",
      "3     0003_02     Europa     False  A/0/S  TRAPPIST-1e  33.0  False   \n",
      "4     0004_01      Earth     False  F/1/S  TRAPPIST-1e  16.0  False   \n",
      "\n",
      "   RoomService  FoodCourt  ShoppingMall     Spa  VRDeck               Name  \\\n",
      "0          0.0        0.0           0.0     0.0     0.0    Maham Ofracculy   \n",
      "1        109.0        9.0          25.0   549.0    44.0       Juanna Vines   \n",
      "2         43.0     3576.0           0.0  6715.0    49.0      Altark Susent   \n",
      "3          0.0     1283.0         371.0  3329.0   193.0       Solam Susent   \n",
      "4        303.0       70.0         151.0   565.0     2.0  Willy Santantines   \n",
      "\n",
      "   Transported  \n",
      "0        False  \n",
      "1         True  \n",
      "2        False  \n",
      "3        False  \n",
      "4         True  \n"
     ]
    }
   ],
   "source": [
    "import numpy as np # linear algebra\n",
    "import pandas as pd # data processing, CSV file I/O (e.g. pd.read_csv)\n",
    "\n",
    "\n",
    "import os\n",
    "\n",
    "\n",
    "#importing the train dataset\n",
    "train = pd.read_csv(\"train.csv\")\n",
    "\n",
    "print(train.head())"
   ]
  },
  {
   "cell_type": "code",
   "execution_count": 3,
   "id": "2e6d7309-9b3e-4d50-8c55-f2bbfa9db407",
   "metadata": {
    "_cell_guid": "b1076dfc-b9ad-4769-8c92-a6c4dae69d19",
    "_uuid": "8f2839f25d086af736a60e9eeb907d3b93b6e0e5",
    "tags": []
   },
   "outputs": [
    {
     "data": {
      "text/plain": [
       "'C:\\\\Users\\\\danie\\\\Downloads\\\\SpaceShip Titanic'"
      ]
     },
     "execution_count": 3,
     "metadata": {},
     "output_type": "execute_result"
    }
   ],
   "source": [
    "os.getcwd()"
   ]
  },
  {
   "cell_type": "code",
   "execution_count": 6,
   "id": "cea14cc2-9a92-4700-84cc-d807b83f22a3",
   "metadata": {
    "_cell_guid": "b1076dfc-b9ad-4769-8c92-a6c4dae69d19",
    "_uuid": "8f2839f25d086af736a60e9eeb907d3b93b6e0e5",
    "tags": []
   },
   "outputs": [
    {
     "data": {
      "text/plain": [
       "PassengerId       0\n",
       "HomePlanet      201\n",
       "CryoSleep       217\n",
       "Cabin           199\n",
       "Destination     182\n",
       "Age             179\n",
       "VIP             203\n",
       "RoomService     181\n",
       "FoodCourt       183\n",
       "ShoppingMall    208\n",
       "Spa             183\n",
       "VRDeck          188\n",
       "Name            200\n",
       "Transported       0\n",
       "dtype: int64"
      ]
     },
     "execution_count": 6,
     "metadata": {},
     "output_type": "execute_result"
    }
   ],
   "source": [
    "#counting null values\n",
    "\n",
    "train.isnull().sum()"
   ]
  },
  {
   "cell_type": "code",
   "execution_count": 7,
   "id": "ad0a1e40-97f2-40a9-86a7-c2267f9d1657",
   "metadata": {
    "_cell_guid": "b1076dfc-b9ad-4769-8c92-a6c4dae69d19",
    "_uuid": "8f2839f25d086af736a60e9eeb907d3b93b6e0e5",
    "tags": []
   },
   "outputs": [
    {
     "name": "stdout",
     "output_type": "stream",
     "text": [
      "8693\n"
     ]
    }
   ],
   "source": [
    "#counting all valuews\n",
    "\n",
    "print(train.PassengerId.count())"
   ]
  },
  {
   "cell_type": "code",
   "execution_count": 8,
   "id": "c66acdd7-7497-48aa-ae4e-ef9848f6b55a",
   "metadata": {
    "_cell_guid": "b1076dfc-b9ad-4769-8c92-a6c4dae69d19",
    "_uuid": "8f2839f25d086af736a60e9eeb907d3b93b6e0e5",
    "tags": []
   },
   "outputs": [
    {
     "name": "stdout",
     "output_type": "stream",
     "text": [
      "      A/0/P  A/0/S  A/1/S  A/10/P  A/10/S  A/100/S  A/101/S  A/102/S  A/103/S  \\\n",
      "0         0      0      0       0       0        0        0        0        0   \n",
      "1         0      0      0       0       0        0        0        0        0   \n",
      "2         0      1      0       0       0        0        0        0        0   \n",
      "3         0      1      0       0       0        0        0        0        0   \n",
      "4         0      0      0       0       0        0        0        0        0   \n",
      "...     ...    ...    ...     ...     ...      ...      ...      ...      ...   \n",
      "8688      0      0      0       0       0        0        0        0        0   \n",
      "8689      0      0      0       0       0        0        0        0        0   \n",
      "8690      0      0      0       0       0        0        0        0        0   \n",
      "8691      0      0      0       0       0        0        0        0        0   \n",
      "8692      0      0      0       0       0        0        0        0        0   \n",
      "\n",
      "      A/104/S  ...  G/996/S  G/998/P  G/998/S  G/999/P  G/999/S  T/0/P  T/1/P  \\\n",
      "0           0  ...        0        0        0        0        0      0      0   \n",
      "1           0  ...        0        0        0        0        0      0      0   \n",
      "2           0  ...        0        0        0        0        0      0      0   \n",
      "3           0  ...        0        0        0        0        0      0      0   \n",
      "4           0  ...        0        0        0        0        0      0      0   \n",
      "...       ...  ...      ...      ...      ...      ...      ...    ...    ...   \n",
      "8688        0  ...        0        0        0        0        0      0      0   \n",
      "8689        0  ...        0        0        0        0        0      0      0   \n",
      "8690        0  ...        0        0        0        0        0      0      0   \n",
      "8691        0  ...        0        0        0        0        0      0      0   \n",
      "8692        0  ...        0        0        0        0        0      0      0   \n",
      "\n",
      "      T/2/P  T/2/S  T/3/P  \n",
      "0         0      0      0  \n",
      "1         0      0      0  \n",
      "2         0      0      0  \n",
      "3         0      0      0  \n",
      "4         0      0      0  \n",
      "...     ...    ...    ...  \n",
      "8688      0      0      0  \n",
      "8689      0      0      0  \n",
      "8690      0      0      0  \n",
      "8691      0      0      0  \n",
      "8692      0      0      0  \n",
      "\n",
      "[8693 rows x 6560 columns]\n"
     ]
    }
   ],
   "source": [
    "#exploring data for one-hot encoding\n",
    "\n",
    "print(pd.get_dummies(train.Cabin))"
   ]
  },
  {
   "cell_type": "code",
   "execution_count": 9,
   "id": "5c02a0be-a655-4e93-8d22-0720305edad4",
   "metadata": {
    "_cell_guid": "b1076dfc-b9ad-4769-8c92-a6c4dae69d19",
    "_uuid": "8f2839f25d086af736a60e9eeb907d3b93b6e0e5",
    "tags": []
   },
   "outputs": [
    {
     "name": "stdout",
     "output_type": "stream",
     "text": [
      "      55 Cancri e  PSO J318.5-22  TRAPPIST-1e\n",
      "0               0              0            1\n",
      "1               0              0            1\n",
      "2               0              0            1\n",
      "3               0              0            1\n",
      "4               0              0            1\n",
      "...           ...            ...          ...\n",
      "8688            1              0            0\n",
      "8689            0              1            0\n",
      "8690            0              0            1\n",
      "8691            1              0            0\n",
      "8692            0              0            1\n",
      "\n",
      "[8693 rows x 3 columns]\n"
     ]
    }
   ],
   "source": [
    "#exploring data for one-hot encoding\n",
    "\n",
    "print(pd.get_dummies(train.Destination))"
   ]
  },
  {
   "cell_type": "code",
   "execution_count": 10,
   "id": "c341b1b8-8e9b-4a57-9d09-cd7301836ddb",
   "metadata": {
    "_cell_guid": "b1076dfc-b9ad-4769-8c92-a6c4dae69d19",
    "_uuid": "8f2839f25d086af736a60e9eeb907d3b93b6e0e5",
    "tags": []
   },
   "outputs": [
    {
     "name": "stdout",
     "output_type": "stream",
     "text": [
      "      Earth  Europa  Mars\n",
      "0         0       1     0\n",
      "1         1       0     0\n",
      "2         0       1     0\n",
      "3         0       1     0\n",
      "4         1       0     0\n",
      "...     ...     ...   ...\n",
      "8688      0       1     0\n",
      "8689      1       0     0\n",
      "8690      1       0     0\n",
      "8691      0       1     0\n",
      "8692      0       1     0\n",
      "\n",
      "[8693 rows x 3 columns]\n"
     ]
    }
   ],
   "source": [
    "#exploring data for one-hot encoding\n",
    "\n",
    "print(pd.get_dummies(train.HomePlanet))"
   ]
  },
  {
   "cell_type": "code",
   "execution_count": 11,
   "id": "8b48f8ec-3a82-4ca8-8cef-07ad97dbae0f",
   "metadata": {
    "_cell_guid": "b1076dfc-b9ad-4769-8c92-a6c4dae69d19",
    "_uuid": "8f2839f25d086af736a60e9eeb907d3b93b6e0e5",
    "tags": []
   },
   "outputs": [],
   "source": [
    "#creating columns for normalization\n",
    "\n",
    "colonne = [\"Age\",\"RoomService\",\"FoodCourt\",\"ShoppingMall\",\"Spa\",\"VRDeck\"]"
   ]
  },
  {
   "cell_type": "code",
   "execution_count": 12,
   "id": "62aea225-ee40-4f69-9f11-42b8554b2463",
   "metadata": {
    "_cell_guid": "b1076dfc-b9ad-4769-8c92-a6c4dae69d19",
    "_uuid": "8f2839f25d086af736a60e9eeb907d3b93b6e0e5",
    "tags": []
   },
   "outputs": [],
   "source": [
    "#defining transform function\n",
    "\n",
    "\n",
    "def transform_data(dataframe):\n",
    "\n",
    "    dataframe = pd.get_dummies(dataframe, prefix='', prefix_sep='', \n",
    "                            columns=[\"HomePlanet\"])\n",
    "\n",
    "    dataframe.Destination.replace(['55 Cancri e', 'PSO J318.5-22','TRAPPIST-1e'],\n",
    "                             [0,1,2], inplace=True)\n",
    "    \n",
    "    dataframe.CryoSleep.replace([False,True],\n",
    "                             [0,1], inplace=True)\n",
    "    \n",
    "    dataframe.VIP.replace([False,True],\n",
    "                             [0,1], inplace=True)\n",
    "    \n",
    "    dataframe.Transported.replace([False,True],\n",
    "                             [0,1], inplace=True)\n",
    "    \n",
    "    dataframe.drop(\"Name\",axis=1,inplace=True)\n",
    "    \n",
    "    dataframe.drop(\"PassengerId\",axis=1,inplace=True)   \n",
    "    \n",
    "    dataframe[[\"Cab_deck\",\"Cab_num\",\"Cab_side\"]] = dataframe['Cabin'].str.split('/', expand=True)\n",
    "    \n",
    "    train.Cab_deck.replace(['B', 'F', 'A', 'G', 'E', 'D', 'C', 'T'],\n",
    "                             [0,1,2,3,4,5,6,7], inplace=True)\n",
    "    \n",
    "    train.Cab_deck.replace(['P', 'S'],\n",
    "                             [0,1], inplace=True)\n",
    "    \n",
    "    dataframe.drop(\"Cabin\",axis=1,inplace=True)\n",
    "    \n",
    "    for column in colonne:\n",
    "        dataframe[column] = dataframe[column]  / dataframe[column].abs().max()"
   ]
  },
  {
   "cell_type": "code",
   "execution_count": 16,
   "id": "0c75ae8a-2496-44fe-9595-931c2faed197",
   "metadata": {
    "_cell_guid": "b1076dfc-b9ad-4769-8c92-a6c4dae69d19",
    "_uuid": "8f2839f25d086af736a60e9eeb907d3b93b6e0e5",
    "tags": []
   },
   "outputs": [],
   "source": [
    "#transforming data\n",
    "\n",
    "transformed_train = transform_data(train)"
   ]
  },
  {
   "cell_type": "code",
   "execution_count": 17,
   "id": "144809e2-ca75-4e4b-9b5b-4aa2bf1af398",
   "metadata": {},
   "outputs": [
    {
     "name": "stdout",
     "output_type": "stream",
     "text": [
      "None\n"
     ]
    }
   ],
   "source": [
    "print(transformed_train)"
   ]
  },
  {
   "cell_type": "code",
   "execution_count": null,
   "id": "df4f07a7-64be-474e-bc77-65c74ca9de7e",
   "metadata": {},
   "outputs": [],
   "source": []
  }
 ],
 "metadata": {
  "kernelspec": {
   "display_name": "Python 3 (ipykernel)",
   "language": "python",
   "name": "python3"
  },
  "language_info": {
   "codemirror_mode": {
    "name": "ipython",
    "version": 3
   },
   "file_extension": ".py",
   "mimetype": "text/x-python",
   "name": "python",
   "nbconvert_exporter": "python",
   "pygments_lexer": "ipython3",
   "version": "3.8.13"
  }
 },
 "nbformat": 4,
 "nbformat_minor": 5
}
