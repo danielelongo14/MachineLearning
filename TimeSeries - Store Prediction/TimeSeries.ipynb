{
 "cells": [
  {
   "cell_type": "code",
   "execution_count": 1,
   "id": "46e1f61f-360a-49f2-8fb5-907ded5c4160",
   "metadata": {},
   "outputs": [],
   "source": [
    "import pandas as pd\n",
    "import matplotlib.pyplot as plt\n",
    "%matplotlib inline"
   ]
  },
  {
   "cell_type": "code",
   "execution_count": 14,
   "id": "59784319-574e-4e23-b5e0-9ad59954c9b9",
   "metadata": {},
   "outputs": [
    {
     "name": "stdout",
     "output_type": "stream",
     "text": [
      "C:\\Users\\danie\n"
     ]
    }
   ],
   "source": [
    "cd "
   ]
  },
  {
   "cell_type": "code",
   "execution_count": 13,
   "id": "5998eaf8-4e11-4108-a6b6-89296f39149c",
   "metadata": {},
   "outputs": [],
   "source": [
    "shampoo = pd.read_csv(\"C:/Users/danie/Downloads/TimeSeries/shampoo_with_exog.csv\")"
   ]
  },
  {
   "cell_type": "code",
   "execution_count": 15,
   "id": "a15bed7c-23f1-4cad-ad9a-90bccad9bf14",
   "metadata": {},
   "outputs": [
    {
     "data": {
      "text/html": [
       "<div>\n",
       "<style scoped>\n",
       "    .dataframe tbody tr th:only-of-type {\n",
       "        vertical-align: middle;\n",
       "    }\n",
       "\n",
       "    .dataframe tbody tr th {\n",
       "        vertical-align: top;\n",
       "    }\n",
       "\n",
       "    .dataframe thead th {\n",
       "        text-align: right;\n",
       "    }\n",
       "</style>\n",
       "<table border=\"1\" class=\"dataframe\">\n",
       "  <thead>\n",
       "    <tr style=\"text-align: right;\">\n",
       "      <th></th>\n",
       "      <th>Month</th>\n",
       "      <th>Sales</th>\n",
       "      <th>Inflation</th>\n",
       "    </tr>\n",
       "  </thead>\n",
       "  <tbody>\n",
       "    <tr>\n",
       "      <th>0</th>\n",
       "      <td>1-Jan</td>\n",
       "      <td>266.0</td>\n",
       "      <td>1</td>\n",
       "    </tr>\n",
       "    <tr>\n",
       "      <th>1</th>\n",
       "      <td>2-Jan</td>\n",
       "      <td>145.9</td>\n",
       "      <td>3</td>\n",
       "    </tr>\n",
       "    <tr>\n",
       "      <th>2</th>\n",
       "      <td>3-Jan</td>\n",
       "      <td>183.1</td>\n",
       "      <td>5</td>\n",
       "    </tr>\n",
       "    <tr>\n",
       "      <th>3</th>\n",
       "      <td>4-Jan</td>\n",
       "      <td>119.3</td>\n",
       "      <td>5</td>\n",
       "    </tr>\n",
       "    <tr>\n",
       "      <th>4</th>\n",
       "      <td>5-Jan</td>\n",
       "      <td>180.3</td>\n",
       "      <td>4</td>\n",
       "    </tr>\n",
       "  </tbody>\n",
       "</table>\n",
       "</div>"
      ],
      "text/plain": [
       "   Month  Sales  Inflation\n",
       "0  1-Jan  266.0          1\n",
       "1  2-Jan  145.9          3\n",
       "2  3-Jan  183.1          5\n",
       "3  4-Jan  119.3          5\n",
       "4  5-Jan  180.3          4"
      ]
     },
     "execution_count": 15,
     "metadata": {},
     "output_type": "execute_result"
    }
   ],
   "source": [
    "shampoo.head()"
   ]
  },
  {
   "cell_type": "code",
   "execution_count": 16,
   "id": "6ccb4dad-d8a5-4e6e-b2d8-8104dfacd788",
   "metadata": {},
   "outputs": [
    {
     "data": {
      "text/plain": [
       "pandas.core.frame.DataFrame"
      ]
     },
     "execution_count": 16,
     "metadata": {},
     "output_type": "execute_result"
    }
   ],
   "source": [
    "type(shampoo)"
   ]
  },
  {
   "cell_type": "code",
   "execution_count": 17,
   "id": "f3c4855d-8c27-4bd6-a519-c34336a16596",
   "metadata": {},
   "outputs": [
    {
     "name": "stderr",
     "output_type": "stream",
     "text": [
      "C:\\Users\\danie\\AppData\\Local\\Temp\\ipykernel_19760\\1387257675.py:1: FutureWarning: The squeeze argument has been deprecated and will be removed in a future version. Append .squeeze(\"columns\") to the call to squeeze.\n",
      "\n",
      "\n",
      "  shampoo = pd.read_csv(\"C:/Users/danie/Downloads/TimeSeries/shampoo_with_exog.csv\", index_col=[0], parse_dates=True,squeeze=True)\n"
     ]
    }
   ],
   "source": [
    "shampoo = pd.read_csv(\"C:/Users/danie/Downloads/TimeSeries/shampoo_with_exog.csv\", index_col=[0], parse_dates=True,squeeze=True)"
   ]
  },
  {
   "cell_type": "code",
   "execution_count": 18,
   "id": "8774d0b9-3256-4664-a7c3-578dc9d932c9",
   "metadata": {},
   "outputs": [
    {
     "data": {
      "text/plain": [
       "pandas.core.frame.DataFrame"
      ]
     },
     "execution_count": 18,
     "metadata": {},
     "output_type": "execute_result"
    }
   ],
   "source": [
    "type(shampoo)"
   ]
  },
  {
   "cell_type": "code",
   "execution_count": 19,
   "id": "bb1cb8f2-a4e6-4a77-b0d6-35848f8eacf8",
   "metadata": {},
   "outputs": [
    {
     "data": {
      "text/html": [
       "<div>\n",
       "<style scoped>\n",
       "    .dataframe tbody tr th:only-of-type {\n",
       "        vertical-align: middle;\n",
       "    }\n",
       "\n",
       "    .dataframe tbody tr th {\n",
       "        vertical-align: top;\n",
       "    }\n",
       "\n",
       "    .dataframe thead th {\n",
       "        text-align: right;\n",
       "    }\n",
       "</style>\n",
       "<table border=\"1\" class=\"dataframe\">\n",
       "  <thead>\n",
       "    <tr style=\"text-align: right;\">\n",
       "      <th></th>\n",
       "      <th>Sales</th>\n",
       "      <th>Inflation</th>\n",
       "    </tr>\n",
       "    <tr>\n",
       "      <th>Month</th>\n",
       "      <th></th>\n",
       "      <th></th>\n",
       "    </tr>\n",
       "  </thead>\n",
       "  <tbody>\n",
       "    <tr>\n",
       "      <th>1-Jan</th>\n",
       "      <td>266.0</td>\n",
       "      <td>1</td>\n",
       "    </tr>\n",
       "    <tr>\n",
       "      <th>2-Jan</th>\n",
       "      <td>145.9</td>\n",
       "      <td>3</td>\n",
       "    </tr>\n",
       "    <tr>\n",
       "      <th>3-Jan</th>\n",
       "      <td>183.1</td>\n",
       "      <td>5</td>\n",
       "    </tr>\n",
       "    <tr>\n",
       "      <th>4-Jan</th>\n",
       "      <td>119.3</td>\n",
       "      <td>5</td>\n",
       "    </tr>\n",
       "    <tr>\n",
       "      <th>5-Jan</th>\n",
       "      <td>180.3</td>\n",
       "      <td>4</td>\n",
       "    </tr>\n",
       "  </tbody>\n",
       "</table>\n",
       "</div>"
      ],
      "text/plain": [
       "       Sales  Inflation\n",
       "Month                  \n",
       "1-Jan  266.0          1\n",
       "2-Jan  145.9          3\n",
       "3-Jan  183.1          5\n",
       "4-Jan  119.3          5\n",
       "5-Jan  180.3          4"
      ]
     },
     "execution_count": 19,
     "metadata": {},
     "output_type": "execute_result"
    }
   ],
   "source": [
    "shampoo.head()"
   ]
  },
  {
   "cell_type": "code",
   "execution_count": 20,
   "id": "db6b2acc-fb1f-44d9-b6f3-91c53f758062",
   "metadata": {},
   "outputs": [
    {
     "data": {
      "text/plain": [
       "<AxesSubplot:xlabel='Month'>"
      ]
     },
     "execution_count": 20,
     "metadata": {},
     "output_type": "execute_result"
    },
    {
     "data": {
      "image/png": "[encoded data removed]",
      "text/plain": [
       "<Figure size 432x288 with 1 Axes>"
      ]
     },
     "metadata": {
      "needs_background": "light"
     },
     "output_type": "display_data"
    }
   ],
   "source": [
    "shampoo.plot()"
   ]
  },
  {
   "cell_type": "code",
   "execution_count": 21,
   "id": "472c142d-5c2a-4d6c-a834-05fe1bd60c63",
   "metadata": {},
   "outputs": [
    {
     "data": {
      "text/plain": [
       "<AxesSubplot:xlabel='Month'>"
      ]
     },
     "execution_count": 21,
     "metadata": {},
     "output_type": "execute_result"
    },
    {
     "data": {
      "image/png": "[encoded data removed]",
      "text/plain": [
       "<Figure size 432x288 with 1 Axes>"
      ]
     },
     "metadata": {
      "needs_background": "light"
     },
     "output_type": "display_data"
    }
   ],
   "source": [
    "shampoo.plot(style=\"k.\")"
   ]
  },
  {
   "cell_type": "code",
   "execution_count": 22,
   "id": "a147dc32-f591-4b01-92cd-72e3742ccdc2",
   "metadata": {},
   "outputs": [
    {
     "data": {
      "text/plain": [
       "72"
      ]
     },
     "execution_count": 22,
     "metadata": {},
     "output_type": "execute_result"
    }
   ],
   "source": [
    "shampoo.size"
   ]
  },
  {
   "cell_type": "code",
   "execution_count": 23,
   "id": "dc738391-dd18-4d77-8385-69ebf7169abf",
   "metadata": {},
   "outputs": [
    {
     "data": {
      "text/html": [
       "<div>\n",
       "<style scoped>\n",
       "    .dataframe tbody tr th:only-of-type {\n",
       "        vertical-align: middle;\n",
       "    }\n",
       "\n",
       "    .dataframe tbody tr th {\n",
       "        vertical-align: top;\n",
       "    }\n",
       "\n",
       "    .dataframe thead th {\n",
       "        text-align: right;\n",
       "    }\n",
       "</style>\n",
       "<table border=\"1\" class=\"dataframe\">\n",
       "  <thead>\n",
       "    <tr style=\"text-align: right;\">\n",
       "      <th></th>\n",
       "      <th>Sales</th>\n",
       "      <th>Inflation</th>\n",
       "    </tr>\n",
       "  </thead>\n",
       "  <tbody>\n",
       "    <tr>\n",
       "      <th>count</th>\n",
       "      <td>36.000000</td>\n",
       "      <td>36.000000</td>\n",
       "    </tr>\n",
       "    <tr>\n",
       "      <th>mean</th>\n",
       "      <td>312.600000</td>\n",
       "      <td>3.388889</td>\n",
       "    </tr>\n",
       "    <tr>\n",
       "      <th>std</th>\n",
       "      <td>148.937164</td>\n",
       "      <td>1.535816</td>\n",
       "    </tr>\n",
       "    <tr>\n",
       "      <th>min</th>\n",
       "      <td>119.300000</td>\n",
       "      <td>1.000000</td>\n",
       "    </tr>\n",
       "    <tr>\n",
       "      <th>25%</th>\n",
       "      <td>192.450000</td>\n",
       "      <td>2.000000</td>\n",
       "    </tr>\n",
       "    <tr>\n",
       "      <th>50%</th>\n",
       "      <td>280.150000</td>\n",
       "      <td>4.000000</td>\n",
       "    </tr>\n",
       "    <tr>\n",
       "      <th>75%</th>\n",
       "      <td>411.100000</td>\n",
       "      <td>5.000000</td>\n",
       "    </tr>\n",
       "    <tr>\n",
       "      <th>max</th>\n",
       "      <td>682.000000</td>\n",
       "      <td>5.000000</td>\n",
       "    </tr>\n",
       "  </tbody>\n",
       "</table>\n",
       "</div>"
      ],
      "text/plain": [
       "            Sales  Inflation\n",
       "count   36.000000  36.000000\n",
       "mean   312.600000   3.388889\n",
       "std    148.937164   1.535816\n",
       "min    119.300000   1.000000\n",
       "25%    192.450000   2.000000\n",
       "50%    280.150000   4.000000\n",
       "75%    411.100000   5.000000\n",
       "max    682.000000   5.000000"
      ]
     },
     "execution_count": 23,
     "metadata": {},
     "output_type": "execute_result"
    }
   ],
   "source": [
    "shampoo.describe()"
   ]
  },
  {
   "cell_type": "code",
   "execution_count": 26,
   "id": "6c2b89d0-1c2c-407e-921c-ab29b0309b9b",
   "metadata": {},
   "outputs": [],
   "source": [
    "shampoo_ma = shampoo.rolling(window=10).mean()"
   ]
  },
  {
   "cell_type": "code",
   "execution_count": 27,
   "id": "473009af-242a-4a33-a535-ba0e583d9c8c",
   "metadata": {},
   "outputs": [
    {
     "data": {
      "text/plain": [
       "<AxesSubplot:xlabel='Month'>"
      ]
     },
     "execution_count": 27,
     "metadata": {},
     "output_type": "execute_result"
    },
    {
     "data": {
      "image/png": "[encoded data removed]",
      "text/plain": [
       "<Figure size 432x288 with 1 Axes>"
      ]
     },
     "metadata": {
      "needs_background": "light"
     },
     "output_type": "display_data"
    }
   ],
   "source": [
    "shampoo_ma.plot()"
   ]
  },
  {
   "cell_type": "code",
   "execution_count": 31,
   "id": "de2be74f-86dc-4193-8b72-053ec0d0905a",
   "metadata": {},
   "outputs": [
    {
     "data": {
      "text/html": [
       "<div>\n",
       "<style scoped>\n",
       "    .dataframe tbody tr th:only-of-type {\n",
       "        vertical-align: middle;\n",
       "    }\n",
       "\n",
       "    .dataframe tbody tr th {\n",
       "        vertical-align: top;\n",
       "    }\n",
       "\n",
       "    .dataframe thead th {\n",
       "        text-align: right;\n",
       "    }\n",
       "</style>\n",
       "<table border=\"1\" class=\"dataframe\">\n",
       "  <thead>\n",
       "    <tr style=\"text-align: right;\">\n",
       "      <th></th>\n",
       "      <th>Sales</th>\n",
       "      <th>Inflation</th>\n",
       "    </tr>\n",
       "    <tr>\n",
       "      <th>Month</th>\n",
       "      <th></th>\n",
       "      <th></th>\n",
       "    </tr>\n",
       "  </thead>\n",
       "  <tbody>\n",
       "    <tr>\n",
       "      <th>1-Jan</th>\n",
       "      <td>266.0</td>\n",
       "      <td>1</td>\n",
       "    </tr>\n",
       "    <tr>\n",
       "      <th>2-Jan</th>\n",
       "      <td>145.9</td>\n",
       "      <td>3</td>\n",
       "    </tr>\n",
       "    <tr>\n",
       "      <th>3-Jan</th>\n",
       "      <td>183.1</td>\n",
       "      <td>5</td>\n",
       "    </tr>\n",
       "    <tr>\n",
       "      <th>4-Jan</th>\n",
       "      <td>119.3</td>\n",
       "      <td>5</td>\n",
       "    </tr>\n",
       "    <tr>\n",
       "      <th>5-Jan</th>\n",
       "      <td>180.3</td>\n",
       "      <td>4</td>\n",
       "    </tr>\n",
       "    <tr>\n",
       "      <th>6-Jan</th>\n",
       "      <td>168.5</td>\n",
       "      <td>5</td>\n",
       "    </tr>\n",
       "    <tr>\n",
       "      <th>7-Jan</th>\n",
       "      <td>231.8</td>\n",
       "      <td>3</td>\n",
       "    </tr>\n",
       "    <tr>\n",
       "      <th>8-Jan</th>\n",
       "      <td>224.5</td>\n",
       "      <td>4</td>\n",
       "    </tr>\n",
       "    <tr>\n",
       "      <th>9-Jan</th>\n",
       "      <td>192.8</td>\n",
       "      <td>4</td>\n",
       "    </tr>\n",
       "    <tr>\n",
       "      <th>10-Jan</th>\n",
       "      <td>122.9</td>\n",
       "      <td>4</td>\n",
       "    </tr>\n",
       "    <tr>\n",
       "      <th>11-Jan</th>\n",
       "      <td>336.5</td>\n",
       "      <td>4</td>\n",
       "    </tr>\n",
       "    <tr>\n",
       "      <th>12-Jan</th>\n",
       "      <td>185.9</td>\n",
       "      <td>4</td>\n",
       "    </tr>\n",
       "    <tr>\n",
       "      <th>1-Feb</th>\n",
       "      <td>194.3</td>\n",
       "      <td>5</td>\n",
       "    </tr>\n",
       "    <tr>\n",
       "      <th>2-Feb</th>\n",
       "      <td>149.5</td>\n",
       "      <td>3</td>\n",
       "    </tr>\n",
       "    <tr>\n",
       "      <th>3-Feb</th>\n",
       "      <td>210.1</td>\n",
       "      <td>5</td>\n",
       "    </tr>\n",
       "    <tr>\n",
       "      <th>4-Feb</th>\n",
       "      <td>273.3</td>\n",
       "      <td>1</td>\n",
       "    </tr>\n",
       "    <tr>\n",
       "      <th>5-Feb</th>\n",
       "      <td>191.4</td>\n",
       "      <td>5</td>\n",
       "    </tr>\n",
       "    <tr>\n",
       "      <th>6-Feb</th>\n",
       "      <td>287.0</td>\n",
       "      <td>1</td>\n",
       "    </tr>\n",
       "    <tr>\n",
       "      <th>7-Feb</th>\n",
       "      <td>226.0</td>\n",
       "      <td>4</td>\n",
       "    </tr>\n",
       "    <tr>\n",
       "      <th>8-Feb</th>\n",
       "      <td>303.6</td>\n",
       "      <td>3</td>\n",
       "    </tr>\n",
       "    <tr>\n",
       "      <th>9-Feb</th>\n",
       "      <td>289.9</td>\n",
       "      <td>5</td>\n",
       "    </tr>\n",
       "    <tr>\n",
       "      <th>10-Feb</th>\n",
       "      <td>421.6</td>\n",
       "      <td>4</td>\n",
       "    </tr>\n",
       "    <tr>\n",
       "      <th>11-Feb</th>\n",
       "      <td>264.5</td>\n",
       "      <td>4</td>\n",
       "    </tr>\n",
       "    <tr>\n",
       "      <th>12-Feb</th>\n",
       "      <td>342.3</td>\n",
       "      <td>2</td>\n",
       "    </tr>\n",
       "    <tr>\n",
       "      <th>1-Mar</th>\n",
       "      <td>339.7</td>\n",
       "      <td>3</td>\n",
       "    </tr>\n",
       "    <tr>\n",
       "      <th>2-Mar</th>\n",
       "      <td>440.4</td>\n",
       "      <td>5</td>\n",
       "    </tr>\n",
       "    <tr>\n",
       "      <th>3-Mar</th>\n",
       "      <td>315.9</td>\n",
       "      <td>1</td>\n",
       "    </tr>\n",
       "    <tr>\n",
       "      <th>4-Mar</th>\n",
       "      <td>439.3</td>\n",
       "      <td>5</td>\n",
       "    </tr>\n",
       "    <tr>\n",
       "      <th>5-Mar</th>\n",
       "      <td>401.3</td>\n",
       "      <td>5</td>\n",
       "    </tr>\n",
       "    <tr>\n",
       "      <th>6-Mar</th>\n",
       "      <td>437.4</td>\n",
       "      <td>1</td>\n",
       "    </tr>\n",
       "    <tr>\n",
       "      <th>7-Mar</th>\n",
       "      <td>575.5</td>\n",
       "      <td>5</td>\n",
       "    </tr>\n",
       "    <tr>\n",
       "      <th>8-Mar</th>\n",
       "      <td>407.6</td>\n",
       "      <td>4</td>\n",
       "    </tr>\n",
       "    <tr>\n",
       "      <th>9-Mar</th>\n",
       "      <td>682.0</td>\n",
       "      <td>1</td>\n",
       "    </tr>\n",
       "    <tr>\n",
       "      <th>10-Mar</th>\n",
       "      <td>475.3</td>\n",
       "      <td>2</td>\n",
       "    </tr>\n",
       "    <tr>\n",
       "      <th>11-Mar</th>\n",
       "      <td>581.3</td>\n",
       "      <td>1</td>\n",
       "    </tr>\n",
       "    <tr>\n",
       "      <th>12-Mar</th>\n",
       "      <td>646.9</td>\n",
       "      <td>1</td>\n",
       "    </tr>\n",
       "  </tbody>\n",
       "</table>\n",
       "</div>"
      ],
      "text/plain": [
       "        Sales  Inflation\n",
       "Month                   \n",
       "1-Jan   266.0          1\n",
       "2-Jan   145.9          3\n",
       "3-Jan   183.1          5\n",
       "4-Jan   119.3          5\n",
       "5-Jan   180.3          4\n",
       "6-Jan   168.5          5\n",
       "7-Jan   231.8          3\n",
       "8-Jan   224.5          4\n",
       "9-Jan   192.8          4\n",
       "10-Jan  122.9          4\n",
       "11-Jan  336.5          4\n",
       "12-Jan  185.9          4\n",
       "1-Feb   194.3          5\n",
       "2-Feb   149.5          3\n",
       "3-Feb   210.1          5\n",
       "4-Feb   273.3          1\n",
       "5-Feb   191.4          5\n",
       "6-Feb   287.0          1\n",
       "7-Feb   226.0          4\n",
       "8-Feb   303.6          3\n",
       "9-Feb   289.9          5\n",
       "10-Feb  421.6          4\n",
       "11-Feb  264.5          4\n",
       "12-Feb  342.3          2\n",
       "1-Mar   339.7          3\n",
       "2-Mar   440.4          5\n",
       "3-Mar   315.9          1\n",
       "4-Mar   439.3          5\n",
       "5-Mar   401.3          5\n",
       "6-Mar   437.4          1\n",
       "7-Mar   575.5          5\n",
       "8-Mar   407.6          4\n",
       "9-Mar   682.0          1\n",
       "10-Mar  475.3          2\n",
       "11-Mar  581.3          1\n",
       "12-Mar  646.9          1"
      ]
     },
     "execution_count": 31,
     "metadata": {},
     "output_type": "execute_result"
    }
   ],
   "source": [
    "shampoo"
   ]
  },
  {
   "cell_type": "code",
   "execution_count": 32,
   "id": "157664a9-adc3-4151-bb4b-1a6129738ed3",
   "metadata": {},
   "outputs": [],
   "source": [
    "shampoo = shampoo.squeeze()"
   ]
  },
  {
   "cell_type": "code",
   "execution_count": 33,
   "id": "a57203a6-40c4-4523-9cf5-9cd184b04b8e",
   "metadata": {},
   "outputs": [
    {
     "data": {
      "text/html": [
       "<div>\n",
       "<style scoped>\n",
       "    .dataframe tbody tr th:only-of-type {\n",
       "        vertical-align: middle;\n",
       "    }\n",
       "\n",
       "    .dataframe tbody tr th {\n",
       "        vertical-align: top;\n",
       "    }\n",
       "\n",
       "    .dataframe thead th {\n",
       "        text-align: right;\n",
       "    }\n",
       "</style>\n",
       "<table border=\"1\" class=\"dataframe\">\n",
       "  <thead>\n",
       "    <tr style=\"text-align: right;\">\n",
       "      <th></th>\n",
       "      <th>Sales</th>\n",
       "      <th>Inflation</th>\n",
       "    </tr>\n",
       "    <tr>\n",
       "      <th>Month</th>\n",
       "      <th></th>\n",
       "      <th></th>\n",
       "    </tr>\n",
       "  </thead>\n",
       "  <tbody>\n",
       "    <tr>\n",
       "      <th>1-Jan</th>\n",
       "      <td>266.0</td>\n",
       "      <td>1</td>\n",
       "    </tr>\n",
       "    <tr>\n",
       "      <th>2-Jan</th>\n",
       "      <td>145.9</td>\n",
       "      <td>3</td>\n",
       "    </tr>\n",
       "    <tr>\n",
       "      <th>3-Jan</th>\n",
       "      <td>183.1</td>\n",
       "      <td>5</td>\n",
       "    </tr>\n",
       "    <tr>\n",
       "      <th>4-Jan</th>\n",
       "      <td>119.3</td>\n",
       "      <td>5</td>\n",
       "    </tr>\n",
       "    <tr>\n",
       "      <th>5-Jan</th>\n",
       "      <td>180.3</td>\n",
       "      <td>4</td>\n",
       "    </tr>\n",
       "    <tr>\n",
       "      <th>6-Jan</th>\n",
       "      <td>168.5</td>\n",
       "      <td>5</td>\n",
       "    </tr>\n",
       "    <tr>\n",
       "      <th>7-Jan</th>\n",
       "      <td>231.8</td>\n",
       "      <td>3</td>\n",
       "    </tr>\n",
       "    <tr>\n",
       "      <th>8-Jan</th>\n",
       "      <td>224.5</td>\n",
       "      <td>4</td>\n",
       "    </tr>\n",
       "    <tr>\n",
       "      <th>9-Jan</th>\n",
       "      <td>192.8</td>\n",
       "      <td>4</td>\n",
       "    </tr>\n",
       "    <tr>\n",
       "      <th>10-Jan</th>\n",
       "      <td>122.9</td>\n",
       "      <td>4</td>\n",
       "    </tr>\n",
       "    <tr>\n",
       "      <th>11-Jan</th>\n",
       "      <td>336.5</td>\n",
       "      <td>4</td>\n",
       "    </tr>\n",
       "    <tr>\n",
       "      <th>12-Jan</th>\n",
       "      <td>185.9</td>\n",
       "      <td>4</td>\n",
       "    </tr>\n",
       "    <tr>\n",
       "      <th>1-Feb</th>\n",
       "      <td>194.3</td>\n",
       "      <td>5</td>\n",
       "    </tr>\n",
       "    <tr>\n",
       "      <th>2-Feb</th>\n",
       "      <td>149.5</td>\n",
       "      <td>3</td>\n",
       "    </tr>\n",
       "    <tr>\n",
       "      <th>3-Feb</th>\n",
       "      <td>210.1</td>\n",
       "      <td>5</td>\n",
       "    </tr>\n",
       "    <tr>\n",
       "      <th>4-Feb</th>\n",
       "      <td>273.3</td>\n",
       "      <td>1</td>\n",
       "    </tr>\n",
       "    <tr>\n",
       "      <th>5-Feb</th>\n",
       "      <td>191.4</td>\n",
       "      <td>5</td>\n",
       "    </tr>\n",
       "    <tr>\n",
       "      <th>6-Feb</th>\n",
       "      <td>287.0</td>\n",
       "      <td>1</td>\n",
       "    </tr>\n",
       "    <tr>\n",
       "      <th>7-Feb</th>\n",
       "      <td>226.0</td>\n",
       "      <td>4</td>\n",
       "    </tr>\n",
       "    <tr>\n",
       "      <th>8-Feb</th>\n",
       "      <td>303.6</td>\n",
       "      <td>3</td>\n",
       "    </tr>\n",
       "    <tr>\n",
       "      <th>9-Feb</th>\n",
       "      <td>289.9</td>\n",
       "      <td>5</td>\n",
       "    </tr>\n",
       "    <tr>\n",
       "      <th>10-Feb</th>\n",
       "      <td>421.6</td>\n",
       "      <td>4</td>\n",
       "    </tr>\n",
       "    <tr>\n",
       "      <th>11-Feb</th>\n",
       "      <td>264.5</td>\n",
       "      <td>4</td>\n",
       "    </tr>\n",
       "    <tr>\n",
       "      <th>12-Feb</th>\n",
       "      <td>342.3</td>\n",
       "      <td>2</td>\n",
       "    </tr>\n",
       "    <tr>\n",
       "      <th>1-Mar</th>\n",
       "      <td>339.7</td>\n",
       "      <td>3</td>\n",
       "    </tr>\n",
       "    <tr>\n",
       "      <th>2-Mar</th>\n",
       "      <td>440.4</td>\n",
       "      <td>5</td>\n",
       "    </tr>\n",
       "    <tr>\n",
       "      <th>3-Mar</th>\n",
       "      <td>315.9</td>\n",
       "      <td>1</td>\n",
       "    </tr>\n",
       "    <tr>\n",
       "      <th>4-Mar</th>\n",
       "      <td>439.3</td>\n",
       "      <td>5</td>\n",
       "    </tr>\n",
       "    <tr>\n",
       "      <th>5-Mar</th>\n",
       "      <td>401.3</td>\n",
       "      <td>5</td>\n",
       "    </tr>\n",
       "    <tr>\n",
       "      <th>6-Mar</th>\n",
       "      <td>437.4</td>\n",
       "      <td>1</td>\n",
       "    </tr>\n",
       "    <tr>\n",
       "      <th>7-Mar</th>\n",
       "      <td>575.5</td>\n",
       "      <td>5</td>\n",
       "    </tr>\n",
       "    <tr>\n",
       "      <th>8-Mar</th>\n",
       "      <td>407.6</td>\n",
       "      <td>4</td>\n",
       "    </tr>\n",
       "    <tr>\n",
       "      <th>9-Mar</th>\n",
       "      <td>682.0</td>\n",
       "      <td>1</td>\n",
       "    </tr>\n",
       "    <tr>\n",
       "      <th>10-Mar</th>\n",
       "      <td>475.3</td>\n",
       "      <td>2</td>\n",
       "    </tr>\n",
       "    <tr>\n",
       "      <th>11-Mar</th>\n",
       "      <td>581.3</td>\n",
       "      <td>1</td>\n",
       "    </tr>\n",
       "    <tr>\n",
       "      <th>12-Mar</th>\n",
       "      <td>646.9</td>\n",
       "      <td>1</td>\n",
       "    </tr>\n",
       "  </tbody>\n",
       "</table>\n",
       "</div>"
      ],
      "text/plain": [
       "        Sales  Inflation\n",
       "Month                   \n",
       "1-Jan   266.0          1\n",
       "2-Jan   145.9          3\n",
       "3-Jan   183.1          5\n",
       "4-Jan   119.3          5\n",
       "5-Jan   180.3          4\n",
       "6-Jan   168.5          5\n",
       "7-Jan   231.8          3\n",
       "8-Jan   224.5          4\n",
       "9-Jan   192.8          4\n",
       "10-Jan  122.9          4\n",
       "11-Jan  336.5          4\n",
       "12-Jan  185.9          4\n",
       "1-Feb   194.3          5\n",
       "2-Feb   149.5          3\n",
       "3-Feb   210.1          5\n",
       "4-Feb   273.3          1\n",
       "5-Feb   191.4          5\n",
       "6-Feb   287.0          1\n",
       "7-Feb   226.0          4\n",
       "8-Feb   303.6          3\n",
       "9-Feb   289.9          5\n",
       "10-Feb  421.6          4\n",
       "11-Feb  264.5          4\n",
       "12-Feb  342.3          2\n",
       "1-Mar   339.7          3\n",
       "2-Mar   440.4          5\n",
       "3-Mar   315.9          1\n",
       "4-Mar   439.3          5\n",
       "5-Mar   401.3          5\n",
       "6-Mar   437.4          1\n",
       "7-Mar   575.5          5\n",
       "8-Mar   407.6          4\n",
       "9-Mar   682.0          1\n",
       "10-Mar  475.3          2\n",
       "11-Mar  581.3          1\n",
       "12-Mar  646.9          1"
      ]
     },
     "execution_count": 33,
     "metadata": {},
     "output_type": "execute_result"
    }
   ],
   "source": [
    "shampoo"
   ]
  },
  {
   "cell_type": "code",
   "execution_count": 34,
   "id": "8777ecd1-6c86-45f4-b8e5-bc888542a9d1",
   "metadata": {},
   "outputs": [],
   "source": [
    "shampoo_base = pd.concat([shampoo,shampoo.shift(1)],axis=1)"
   ]
  },
  {
   "cell_type": "code",
   "execution_count": 37,
   "id": "b170eba4-0da1-4c02-aee2-2679f7a644ce",
   "metadata": {},
   "outputs": [],
   "source": [
    "shampoo_base.columns = [\"Actual SALES\",\"Actual Inflation\",\"Forecast_Sales\",\"Forecast_Inflation\"]"
   ]
  },
  {
   "cell_type": "code",
   "execution_count": 40,
   "id": "007977da-0f42-4a6f-b651-816af6b71aa4",
   "metadata": {},
   "outputs": [],
   "source": [
    "shampoo_base.drop([\"Actual Inflation\",\"Forecast_Inflation\"], axis = 1, inplace=True)"
   ]
  },
  {
   "cell_type": "code",
   "execution_count": 41,
   "id": "6af401b6-5007-45bf-92c5-fc74b1519d22",
   "metadata": {},
   "outputs": [
    {
     "data": {
      "text/html": [
       "<div>\n",
       "<style scoped>\n",
       "    .dataframe tbody tr th:only-of-type {\n",
       "        vertical-align: middle;\n",
       "    }\n",
       "\n",
       "    .dataframe tbody tr th {\n",
       "        vertical-align: top;\n",
       "    }\n",
       "\n",
       "    .dataframe thead th {\n",
       "        text-align: right;\n",
       "    }\n",
       "</style>\n",
       "<table border=\"1\" class=\"dataframe\">\n",
       "  <thead>\n",
       "    <tr style=\"text-align: right;\">\n",
       "      <th></th>\n",
       "      <th>Actual SALES</th>\n",
       "      <th>Forecast_Sales</th>\n",
       "    </tr>\n",
       "    <tr>\n",
       "      <th>Month</th>\n",
       "      <th></th>\n",
       "      <th></th>\n",
       "    </tr>\n",
       "  </thead>\n",
       "  <tbody>\n",
       "    <tr>\n",
       "      <th>1-Jan</th>\n",
       "      <td>266.0</td>\n",
       "      <td>NaN</td>\n",
       "    </tr>\n",
       "    <tr>\n",
       "      <th>2-Jan</th>\n",
       "      <td>145.9</td>\n",
       "      <td>266.0</td>\n",
       "    </tr>\n",
       "    <tr>\n",
       "      <th>3-Jan</th>\n",
       "      <td>183.1</td>\n",
       "      <td>145.9</td>\n",
       "    </tr>\n",
       "    <tr>\n",
       "      <th>4-Jan</th>\n",
       "      <td>119.3</td>\n",
       "      <td>183.1</td>\n",
       "    </tr>\n",
       "    <tr>\n",
       "      <th>5-Jan</th>\n",
       "      <td>180.3</td>\n",
       "      <td>119.3</td>\n",
       "    </tr>\n",
       "    <tr>\n",
       "      <th>6-Jan</th>\n",
       "      <td>168.5</td>\n",
       "      <td>180.3</td>\n",
       "    </tr>\n",
       "    <tr>\n",
       "      <th>7-Jan</th>\n",
       "      <td>231.8</td>\n",
       "      <td>168.5</td>\n",
       "    </tr>\n",
       "    <tr>\n",
       "      <th>8-Jan</th>\n",
       "      <td>224.5</td>\n",
       "      <td>231.8</td>\n",
       "    </tr>\n",
       "    <tr>\n",
       "      <th>9-Jan</th>\n",
       "      <td>192.8</td>\n",
       "      <td>224.5</td>\n",
       "    </tr>\n",
       "    <tr>\n",
       "      <th>10-Jan</th>\n",
       "      <td>122.9</td>\n",
       "      <td>192.8</td>\n",
       "    </tr>\n",
       "    <tr>\n",
       "      <th>11-Jan</th>\n",
       "      <td>336.5</td>\n",
       "      <td>122.9</td>\n",
       "    </tr>\n",
       "    <tr>\n",
       "      <th>12-Jan</th>\n",
       "      <td>185.9</td>\n",
       "      <td>336.5</td>\n",
       "    </tr>\n",
       "    <tr>\n",
       "      <th>1-Feb</th>\n",
       "      <td>194.3</td>\n",
       "      <td>185.9</td>\n",
       "    </tr>\n",
       "    <tr>\n",
       "      <th>2-Feb</th>\n",
       "      <td>149.5</td>\n",
       "      <td>194.3</td>\n",
       "    </tr>\n",
       "    <tr>\n",
       "      <th>3-Feb</th>\n",
       "      <td>210.1</td>\n",
       "      <td>149.5</td>\n",
       "    </tr>\n",
       "    <tr>\n",
       "      <th>4-Feb</th>\n",
       "      <td>273.3</td>\n",
       "      <td>210.1</td>\n",
       "    </tr>\n",
       "    <tr>\n",
       "      <th>5-Feb</th>\n",
       "      <td>191.4</td>\n",
       "      <td>273.3</td>\n",
       "    </tr>\n",
       "    <tr>\n",
       "      <th>6-Feb</th>\n",
       "      <td>287.0</td>\n",
       "      <td>191.4</td>\n",
       "    </tr>\n",
       "    <tr>\n",
       "      <th>7-Feb</th>\n",
       "      <td>226.0</td>\n",
       "      <td>287.0</td>\n",
       "    </tr>\n",
       "    <tr>\n",
       "      <th>8-Feb</th>\n",
       "      <td>303.6</td>\n",
       "      <td>226.0</td>\n",
       "    </tr>\n",
       "    <tr>\n",
       "      <th>9-Feb</th>\n",
       "      <td>289.9</td>\n",
       "      <td>303.6</td>\n",
       "    </tr>\n",
       "    <tr>\n",
       "      <th>10-Feb</th>\n",
       "      <td>421.6</td>\n",
       "      <td>289.9</td>\n",
       "    </tr>\n",
       "    <tr>\n",
       "      <th>11-Feb</th>\n",
       "      <td>264.5</td>\n",
       "      <td>421.6</td>\n",
       "    </tr>\n",
       "    <tr>\n",
       "      <th>12-Feb</th>\n",
       "      <td>342.3</td>\n",
       "      <td>264.5</td>\n",
       "    </tr>\n",
       "    <tr>\n",
       "      <th>1-Mar</th>\n",
       "      <td>339.7</td>\n",
       "      <td>342.3</td>\n",
       "    </tr>\n",
       "    <tr>\n",
       "      <th>2-Mar</th>\n",
       "      <td>440.4</td>\n",
       "      <td>339.7</td>\n",
       "    </tr>\n",
       "    <tr>\n",
       "      <th>3-Mar</th>\n",
       "      <td>315.9</td>\n",
       "      <td>440.4</td>\n",
       "    </tr>\n",
       "    <tr>\n",
       "      <th>4-Mar</th>\n",
       "      <td>439.3</td>\n",
       "      <td>315.9</td>\n",
       "    </tr>\n",
       "    <tr>\n",
       "      <th>5-Mar</th>\n",
       "      <td>401.3</td>\n",
       "      <td>439.3</td>\n",
       "    </tr>\n",
       "    <tr>\n",
       "      <th>6-Mar</th>\n",
       "      <td>437.4</td>\n",
       "      <td>401.3</td>\n",
       "    </tr>\n",
       "    <tr>\n",
       "      <th>7-Mar</th>\n",
       "      <td>575.5</td>\n",
       "      <td>437.4</td>\n",
       "    </tr>\n",
       "    <tr>\n",
       "      <th>8-Mar</th>\n",
       "      <td>407.6</td>\n",
       "      <td>575.5</td>\n",
       "    </tr>\n",
       "    <tr>\n",
       "      <th>9-Mar</th>\n",
       "      <td>682.0</td>\n",
       "      <td>407.6</td>\n",
       "    </tr>\n",
       "    <tr>\n",
       "      <th>10-Mar</th>\n",
       "      <td>475.3</td>\n",
       "      <td>682.0</td>\n",
       "    </tr>\n",
       "    <tr>\n",
       "      <th>11-Mar</th>\n",
       "      <td>581.3</td>\n",
       "      <td>475.3</td>\n",
       "    </tr>\n",
       "    <tr>\n",
       "      <th>12-Mar</th>\n",
       "      <td>646.9</td>\n",
       "      <td>581.3</td>\n",
       "    </tr>\n",
       "  </tbody>\n",
       "</table>\n",
       "</div>"
      ],
      "text/plain": [
       "        Actual SALES  Forecast_Sales\n",
       "Month                               \n",
       "1-Jan          266.0             NaN\n",
       "2-Jan          145.9           266.0\n",
       "3-Jan          183.1           145.9\n",
       "4-Jan          119.3           183.1\n",
       "5-Jan          180.3           119.3\n",
       "6-Jan          168.5           180.3\n",
       "7-Jan          231.8           168.5\n",
       "8-Jan          224.5           231.8\n",
       "9-Jan          192.8           224.5\n",
       "10-Jan         122.9           192.8\n",
       "11-Jan         336.5           122.9\n",
       "12-Jan         185.9           336.5\n",
       "1-Feb          194.3           185.9\n",
       "2-Feb          149.5           194.3\n",
       "3-Feb          210.1           149.5\n",
       "4-Feb          273.3           210.1\n",
       "5-Feb          191.4           273.3\n",
       "6-Feb          287.0           191.4\n",
       "7-Feb          226.0           287.0\n",
       "8-Feb          303.6           226.0\n",
       "9-Feb          289.9           303.6\n",
       "10-Feb         421.6           289.9\n",
       "11-Feb         264.5           421.6\n",
       "12-Feb         342.3           264.5\n",
       "1-Mar          339.7           342.3\n",
       "2-Mar          440.4           339.7\n",
       "3-Mar          315.9           440.4\n",
       "4-Mar          439.3           315.9\n",
       "5-Mar          401.3           439.3\n",
       "6-Mar          437.4           401.3\n",
       "7-Mar          575.5           437.4\n",
       "8-Mar          407.6           575.5\n",
       "9-Mar          682.0           407.6\n",
       "10-Mar         475.3           682.0\n",
       "11-Mar         581.3           475.3\n",
       "12-Mar         646.9           581.3"
      ]
     },
     "execution_count": 41,
     "metadata": {},
     "output_type": "execute_result"
    }
   ],
   "source": [
    "shampoo_base"
   ]
  },
  {
   "cell_type": "code",
   "execution_count": 42,
   "id": "dffe4502-f8b3-4d27-8b5e-783e848d7445",
   "metadata": {},
   "outputs": [],
   "source": [
    "shampoo_base.dropna(inplace=True)"
   ]
  },
  {
   "cell_type": "code",
   "execution_count": 43,
   "id": "97adf0a9-8c4b-46e0-b64b-3b8d671219b2",
   "metadata": {},
   "outputs": [
    {
     "data": {
      "text/html": [
       "<div>\n",
       "<style scoped>\n",
       "    .dataframe tbody tr th:only-of-type {\n",
       "        vertical-align: middle;\n",
       "    }\n",
       "\n",
       "    .dataframe tbody tr th {\n",
       "        vertical-align: top;\n",
       "    }\n",
       "\n",
       "    .dataframe thead th {\n",
       "        text-align: right;\n",
       "    }\n",
       "</style>\n",
       "<table border=\"1\" class=\"dataframe\">\n",
       "  <thead>\n",
       "    <tr style=\"text-align: right;\">\n",
       "      <th></th>\n",
       "      <th>Actual SALES</th>\n",
       "      <th>Forecast_Sales</th>\n",
       "    </tr>\n",
       "    <tr>\n",
       "      <th>Month</th>\n",
       "      <th></th>\n",
       "      <th></th>\n",
       "    </tr>\n",
       "  </thead>\n",
       "  <tbody>\n",
       "    <tr>\n",
       "      <th>2-Jan</th>\n",
       "      <td>145.9</td>\n",
       "      <td>266.0</td>\n",
       "    </tr>\n",
       "    <tr>\n",
       "      <th>3-Jan</th>\n",
       "      <td>183.1</td>\n",
       "      <td>145.9</td>\n",
       "    </tr>\n",
       "    <tr>\n",
       "      <th>4-Jan</th>\n",
       "      <td>119.3</td>\n",
       "      <td>183.1</td>\n",
       "    </tr>\n",
       "    <tr>\n",
       "      <th>5-Jan</th>\n",
       "      <td>180.3</td>\n",
       "      <td>119.3</td>\n",
       "    </tr>\n",
       "    <tr>\n",
       "      <th>6-Jan</th>\n",
       "      <td>168.5</td>\n",
       "      <td>180.3</td>\n",
       "    </tr>\n",
       "  </tbody>\n",
       "</table>\n",
       "</div>"
      ],
      "text/plain": [
       "       Actual SALES  Forecast_Sales\n",
       "Month                              \n",
       "2-Jan         145.9           266.0\n",
       "3-Jan         183.1           145.9\n",
       "4-Jan         119.3           183.1\n",
       "5-Jan         180.3           119.3\n",
       "6-Jan         168.5           180.3"
      ]
     },
     "execution_count": 43,
     "metadata": {},
     "output_type": "execute_result"
    }
   ],
   "source": [
    "shampoo_base.head()"
   ]
  },
  {
   "cell_type": "code",
   "execution_count": 44,
   "id": "540440eb-ad9a-4ce6-aba7-f5cd2d212e06",
   "metadata": {},
   "outputs": [],
   "source": [
    "from sklearn.metrics import mean_squared_error\n",
    "import numpy as np"
   ]
  },
  {
   "cell_type": "code",
   "execution_count": 45,
   "id": "9a4f6b72-92f3-4ec8-b0dd-139a06a94aaf",
   "metadata": {},
   "outputs": [],
   "source": [
    "shampoo_error = mean_squared_error(shampoo_base[\"Actual SALES\"],shampoo_base[\"Forecast_Sales\"])"
   ]
  },
  {
   "cell_type": "code",
   "execution_count": 47,
   "id": "3965c23b-821f-495b-a9a5-a5fea246dcbe",
   "metadata": {},
   "outputs": [
    {
     "data": {
      "text/plain": [
       "11715.388285714285"
      ]
     },
     "execution_count": 47,
     "metadata": {},
     "output_type": "execute_result"
    }
   ],
   "source": [
    "shampoo_error"
   ]
  },
  {
   "cell_type": "code",
   "execution_count": 50,
   "id": "3b9f6f11-34ad-4e4a-8ab0-661aa7da5102",
   "metadata": {},
   "outputs": [
    {
     "data": {
      "text/plain": [
       "108.23764726616282"
      ]
     },
     "execution_count": 50,
     "metadata": {},
     "output_type": "execute_result"
    }
   ],
   "source": [
    "np.sqrt(shampoo_error)"
   ]
  },
  {
   "cell_type": "code",
   "execution_count": 51,
   "id": "0afd4ad5-56b1-46d8-b277-1e8a24204e71",
   "metadata": {},
   "outputs": [],
   "source": [
    "#ARIMA METHOD -> AUTO REGRESSIVE INTEGRATED MOVING AVERAGE"
   ]
  },
  {
   "cell_type": "code",
   "execution_count": 52,
   "id": "88357352-cf17-417b-8898-d388b4f3d1b8",
   "metadata": {},
   "outputs": [
    {
     "name": "stdout",
     "output_type": "stream",
     "text": [
      "Collecting statsmodels\n",
      "  Downloading statsmodels-0.13.2-cp38-cp38-win_amd64.whl (9.1 MB)\n",
      "     ---------------------------------------- 9.1/9.1 MB 41.6 MB/s eta 0:00:00\n",
      "Requirement already satisfied: packaging>=21.3 in c:\\users\\danie\\appdata\\roaming\\jupyterlab-desktop\\jlab_server\\lib\\site-packages (from statsmodels) (21.3)\n",
      "Requirement already satisfied: numpy>=1.17 in c:\\users\\danie\\appdata\\roaming\\jupyterlab-desktop\\jlab_server\\lib\\site-packages (from statsmodels) (1.22.3)\n",
      "Requirement already satisfied: pandas>=0.25 in c:\\users\\danie\\appdata\\roaming\\jupyterlab-desktop\\jlab_server\\lib\\site-packages (from statsmodels) (1.4.2)\n",
      "Collecting patsy>=0.5.2\n",
      "  Downloading patsy-0.5.2-py2.py3-none-any.whl (233 kB)\n",
      "     ---------------------------------------- 233.7/233.7 KB ? eta 0:00:00\n",
      "Requirement already satisfied: scipy>=1.3 in c:\\users\\danie\\appdata\\roaming\\jupyterlab-desktop\\jlab_server\\lib\\site-packages (from statsmodels) (1.8.0)\n",
      "Requirement already satisfied: pyparsing!=3.0.5,>=2.0.2 in c:\\users\\danie\\appdata\\roaming\\jupyterlab-desktop\\jlab_server\\lib\\site-packages (from packaging>=21.3->statsmodels) (3.0.8)\n",
      "Requirement already satisfied: pytz>=2020.1 in c:\\users\\danie\\appdata\\roaming\\jupyterlab-desktop\\jlab_server\\lib\\site-packages (from pandas>=0.25->statsmodels) (2022.1)\n",
      "Requirement already satisfied: python-dateutil>=2.8.1 in c:\\users\\danie\\appdata\\roaming\\jupyterlab-desktop\\jlab_server\\lib\\site-packages (from pandas>=0.25->statsmodels) (2.8.2)\n",
      "Requirement already satisfied: six in c:\\users\\danie\\appdata\\roaming\\jupyterlab-desktop\\jlab_server\\lib\\site-packages (from patsy>=0.5.2->statsmodels) (1.16.0)\n",
      "Installing collected packages: patsy, statsmodels\n",
      "Successfully installed patsy-0.5.2 statsmodels-0.13.2\n"
     ]
    }
   ],
   "source": [
    "import sys\n",
    "!{sys.executable} -m pip install statsmodels"
   ]
  },
  {
   "cell_type": "code",
   "execution_count": 54,
   "id": "58080375-d6b1-4931-93ce-b6cf726cc620",
   "metadata": {},
   "outputs": [],
   "source": [
    "from statsmodels.graphics.tsaplots import plot_acf, plot_pacf"
   ]
  },
  {
   "cell_type": "code",
   "execution_count": 61,
   "id": "04d2b888-1ac7-497f-9a4d-bc413a40ddaf",
   "metadata": {},
   "outputs": [],
   "source": [
    "shampoo = pd.Series(shampoo[\"Sales\"].values, index=shampoo.index)"
   ]
  },
  {
   "cell_type": "code",
   "execution_count": 63,
   "id": "7209f474-94ba-4d9c-8f16-0a4a53dcfc0f",
   "metadata": {},
   "outputs": [
    {
     "data": {
      "text/plain": [
       "Month\n",
       "1-Jan     266.0\n",
       "2-Jan     145.9\n",
       "3-Jan     183.1\n",
       "4-Jan     119.3\n",
       "5-Jan     180.3\n",
       "6-Jan     168.5\n",
       "7-Jan     231.8\n",
       "8-Jan     224.5\n",
       "9-Jan     192.8\n",
       "10-Jan    122.9\n",
       "11-Jan    336.5\n",
       "12-Jan    185.9\n",
       "1-Feb     194.3\n",
       "2-Feb     149.5\n",
       "3-Feb     210.1\n",
       "4-Feb     273.3\n",
       "5-Feb     191.4\n",
       "6-Feb     287.0\n",
       "7-Feb     226.0\n",
       "8-Feb     303.6\n",
       "9-Feb     289.9\n",
       "10-Feb    421.6\n",
       "11-Feb    264.5\n",
       "12-Feb    342.3\n",
       "1-Mar     339.7\n",
       "2-Mar     440.4\n",
       "3-Mar     315.9\n",
       "4-Mar     439.3\n",
       "5-Mar     401.3\n",
       "6-Mar     437.4\n",
       "7-Mar     575.5\n",
       "8-Mar     407.6\n",
       "9-Mar     682.0\n",
       "10-Mar    475.3\n",
       "11-Mar    581.3\n",
       "12-Mar    646.9\n",
       "dtype: float64"
      ]
     },
     "execution_count": 63,
     "metadata": {},
     "output_type": "execute_result"
    }
   ],
   "source": [
    "shampoo"
   ]
  },
  {
   "cell_type": "code",
   "execution_count": 64,
   "id": "c362fb56-b0d5-4298-85b3-7f5e403de80b",
   "metadata": {},
   "outputs": [
    {
     "data": {
      "image/png": "[encoded data removed]",
      "text/plain": [
       "<Figure size 432x288 with 1 Axes>"
      ]
     },
     "execution_count": 64,
     "metadata": {},
     "output_type": "execute_result"
    },
    {
     "data": {
      "image/png": "[encoded data removed]",
      "text/plain": [
       "<Figure size 432x288 with 1 Axes>"
      ]
     },
     "metadata": {
      "needs_background": "light"
     },
     "output_type": "display_data"
    }
   ],
   "source": [
    "plot_acf(shampoo)"
   ]
  },
  {
   "cell_type": "code",
   "execution_count": 65,
   "id": "81821a09-a63c-4b3f-b4e6-881391381421",
   "metadata": {},
   "outputs": [
    {
     "name": "stderr",
     "output_type": "stream",
     "text": [
      "C:\\Users\\danie\\AppData\\Roaming\\jupyterlab-desktop\\jlab_server\\lib\\site-packages\\statsmodels\\graphics\\tsaplots.py:348: FutureWarning: The default method 'yw' can produce PACF values outside of the [-1,1] interval. After 0.13, the default will change tounadjusted Yule-Walker ('ywm'). You can use this method now by setting method='ywm'.\n",
      "  warnings.warn(\n"
     ]
    },
    {
     "data": {
      "image/png": "[encoded data removed]",
      "text/plain": [
       "<Figure size 432x288 with 1 Axes>"
      ]
     },
     "execution_count": 65,
     "metadata": {},
     "output_type": "execute_result"
    },
    {
     "data": {
      "image/png": "[encoded data removed]",
      "text/plain": [
       "<Figure size 432x288 with 1 Axes>"
      ]
     },
     "metadata": {
      "needs_background": "light"
     },
     "output_type": "display_data"
    }
   ],
   "source": [
    "# Q -3 p-2, d - 0-2 \n",
    "\n",
    "plot_pacf(shampoo)"
   ]
  },
  {
   "cell_type": "code",
   "execution_count": 73,
   "id": "88f3d6d9-d562-48c3-95b5-1c9c11173622",
   "metadata": {},
   "outputs": [],
   "source": [
    "from statsmodels.tsa.arima.model import ARIMA"
   ]
  },
  {
   "cell_type": "code",
   "execution_count": 67,
   "id": "9b99b802-038b-4d22-93de-3ada420da314",
   "metadata": {},
   "outputs": [],
   "source": [
    "shampoo_train = shampoo[0:25]\n",
    "shampoo_test = shampoo[25:36]"
   ]
  },
  {
   "cell_type": "code",
   "execution_count": 75,
   "id": "ff7d5b96-ff9c-477e-bc4a-8b0e543fcff3",
   "metadata": {},
   "outputs": [
    {
     "name": "stderr",
     "output_type": "stream",
     "text": [
      "C:\\Users\\danie\\AppData\\Roaming\\jupyterlab-desktop\\jlab_server\\lib\\site-packages\\statsmodels\\tsa\\base\\tsa_model.py:471: ValueWarning: An unsupported index was provided and will be ignored when e.g. forecasting.\n",
      "  self._init_dates(dates, freq)\n",
      "C:\\Users\\danie\\AppData\\Roaming\\jupyterlab-desktop\\jlab_server\\lib\\site-packages\\statsmodels\\tsa\\base\\tsa_model.py:471: ValueWarning: An unsupported index was provided and will be ignored when e.g. forecasting.\n",
      "  self._init_dates(dates, freq)\n",
      "C:\\Users\\danie\\AppData\\Roaming\\jupyterlab-desktop\\jlab_server\\lib\\site-packages\\statsmodels\\tsa\\base\\tsa_model.py:471: ValueWarning: An unsupported index was provided and will be ignored when e.g. forecasting.\n",
      "  self._init_dates(dates, freq)\n"
     ]
    }
   ],
   "source": [
    "shampoo_model = ARIMA(shampoo_train,order=(3,1,2))"
   ]
  },
  {
   "cell_type": "code",
   "execution_count": 76,
   "id": "93ddc130-e34f-4a57-9d19-4d4f904e96fe",
   "metadata": {},
   "outputs": [
    {
     "name": "stderr",
     "output_type": "stream",
     "text": [
      "C:\\Users\\danie\\AppData\\Roaming\\jupyterlab-desktop\\jlab_server\\lib\\site-packages\\statsmodels\\base\\model.py:604: ConvergenceWarning: Maximum Likelihood optimization failed to converge. Check mle_retvals\n",
      "  warnings.warn(\"Maximum Likelihood optimization failed to \"\n"
     ]
    }
   ],
   "source": [
    "shampoo_model_fit = shampoo_model.fit()"
   ]
  },
  {
   "cell_type": "code",
   "execution_count": 77,
   "id": "9c20eb99-5688-4751-9855-1f6de48bfe6d",
   "metadata": {},
   "outputs": [
    {
     "data": {
      "text/plain": [
       "273.06923965814104"
      ]
     },
     "execution_count": 77,
     "metadata": {},
     "output_type": "execute_result"
    }
   ],
   "source": [
    "shampoo_model_fit.aic"
   ]
  },
  {
   "cell_type": "code",
   "execution_count": 82,
   "id": "4a858216-5abc-4646-97f7-a100ab9d4583",
   "metadata": {},
   "outputs": [
    {
     "name": "stderr",
     "output_type": "stream",
     "text": [
      "C:\\Users\\danie\\AppData\\Roaming\\jupyterlab-desktop\\jlab_server\\lib\\site-packages\\statsmodels\\tsa\\base\\tsa_model.py:834: ValueWarning: No supported index is available. Prediction results will be given with an integer index beginning at `start`.\n",
      "  return get_prediction_index(\n"
     ]
    }
   ],
   "source": [
    "shampoo_forecast = shampoo_model_fit.forecast(steps=11)"
   ]
  },
  {
   "cell_type": "code",
   "execution_count": 83,
   "id": "3ba08f1e-5175-4de9-a1e3-38a868f52e95",
   "metadata": {},
   "outputs": [
    {
     "data": {
      "text/plain": [
       "177.7278543775807"
      ]
     },
     "execution_count": 83,
     "metadata": {},
     "output_type": "execute_result"
    }
   ],
   "source": [
    "np.sqrt(mean_squared_error(shampoo_test,shampoo_forecast))"
   ]
  },
  {
   "cell_type": "code",
   "execution_count": 84,
   "id": "0e071c13-5732-4484-824d-0d3b4d38475d",
   "metadata": {},
   "outputs": [],
   "source": [
    "# not so good arima model result\n"
   ]
  },
  {
   "cell_type": "code",
   "execution_count": null,
   "id": "3ef2a71a-03bd-4448-a8dd-12b89d643613",
   "metadata": {},
   "outputs": [],
   "source": []
  },
  {
   "cell_type": "code",
   "execution_count": null,
   "id": "afdd41c5-a186-49cf-8e60-cd8a2cdd46de",
   "metadata": {},
   "outputs": [],
   "source": []
  }
 ],
 "metadata": {
  "kernelspec": {
   "display_name": "Python 3 (ipykernel)",
   "language": "python",
   "name": "python3"
  },
  "language_info": {
   "codemirror_mode": {
    "name": "ipython",
    "version": 3
   },
   "file_extension": ".py",
   "mimetype": "text/x-python",
   "name": "python",
   "nbconvert_exporter": "python",
   "pygments_lexer": "ipython3",
   "version": "3.8.13"
  }
 },
 "nbformat": 4,
 "nbformat_minor": 5
}
