{
 "cells": [
  {
   "cell_type": "code",
   "execution_count": 1,
   "id": "0a9f49cb-e3d4-4e6a-8988-481064beb1bf",
   "metadata": {},
   "outputs": [
    {
     "name": "stdout",
     "output_type": "stream",
     "text": [
      "Collecting kaggle\n",
      "  Downloading kaggle-1.5.13.tar.gz (63 kB)\n",
      "     ---------------------------------------- 63.3/63.3 kB 1.7 MB/s eta 0:00:00\n",
      "  Preparing metadata (setup.py): started\n",
      "  Preparing metadata (setup.py): finished with status 'done'\n",
      "Requirement already satisfied: six>=1.10 in c:\\users\\danie\\appdata\\roaming\\jupyterlab-desktop\\jlab_server\\lib\\site-packages (from kaggle) (1.16.0)\n",
      "Requirement already satisfied: certifi in c:\\users\\danie\\appdata\\roaming\\jupyterlab-desktop\\jlab_server\\lib\\site-packages (from kaggle) (2022.6.15)\n",
      "Requirement already satisfied: python-dateutil in c:\\users\\danie\\appdata\\roaming\\jupyterlab-desktop\\jlab_server\\lib\\site-packages (from kaggle) (2.8.2)\n",
      "Requirement already satisfied: requests in c:\\users\\danie\\appdata\\roaming\\jupyterlab-desktop\\jlab_server\\lib\\site-packages (from kaggle) (2.28.1)\n",
      "Requirement already satisfied: tqdm in c:\\users\\danie\\appdata\\roaming\\jupyterlab-desktop\\jlab_server\\lib\\site-packages (from kaggle) (4.64.1)\n",
      "Collecting python-slugify\n",
      "  Downloading python_slugify-8.0.1-py2.py3-none-any.whl (9.7 kB)\n",
      "Requirement already satisfied: urllib3 in c:\\users\\danie\\appdata\\roaming\\jupyterlab-desktop\\jlab_server\\lib\\site-packages (from kaggle) (1.26.11)\n",
      "Collecting text-unidecode>=1.3\n",
      "  Using cached text_unidecode-1.3-py2.py3-none-any.whl (78 kB)\n",
      "Requirement already satisfied: idna<4,>=2.5 in c:\\users\\danie\\appdata\\roaming\\jupyterlab-desktop\\jlab_server\\lib\\site-packages (from requests->kaggle) (3.3)\n",
      "Requirement already satisfied: charset-normalizer<3,>=2 in c:\\users\\danie\\appdata\\roaming\\jupyterlab-desktop\\jlab_server\\lib\\site-packages (from requests->kaggle) (2.1.1)\n",
      "Requirement already satisfied: colorama in c:\\users\\danie\\appdata\\roaming\\jupyterlab-desktop\\jlab_server\\lib\\site-packages (from tqdm->kaggle) (0.4.5)\n",
      "Building wheels for collected packages: kaggle\n",
      "  Building wheel for kaggle (setup.py): started\n",
      "  Building wheel for kaggle (setup.py): finished with status 'done'\n",
      "  Created wheel for kaggle: filename=kaggle-1.5.13-py3-none-any.whl size=77717 sha256=b8b7bd2fba164e43cd4b3fe730cb5cbd89180094813322c113c121a1ea7d834e\n",
      "  Stored in directory: c:\\users\\danie\\appdata\\local\\pip\\cache\\wheels\\e6\\8e\\67\\e07554a720a493dc6b39b30488590ba92ed45448ad0134d253\n",
      "Successfully built kaggle\n",
      "Installing collected packages: text-unidecode, python-slugify, kaggle\n",
      "Successfully installed kaggle-1.5.13 python-slugify-8.0.1 text-unidecode-1.3\n"
     ]
    }
   ],
   "source": [
    "!pip install kaggle"
   ]
  },
  {
   "cell_type": "code",
   "execution_count": 2,
   "id": "a1f7cf99-4e7a-41e5-be68-4201ddb2d13d",
   "metadata": {},
   "outputs": [],
   "source": [
    "from kaggle.api.kaggle_api_extended import KaggleApi"
   ]
  },
  {
   "cell_type": "code",
   "execution_count": 4,
   "id": "f4c43f57-0588-43a9-938d-bb6670010c7d",
   "metadata": {},
   "outputs": [],
   "source": [
    "api = KaggleApi()\n",
    "api.authenticate()"
   ]
  },
  {
   "cell_type": "code",
   "execution_count": 9,
   "id": "84b400d5-f0e6-4873-8ed1-350b901a1dc0",
   "metadata": {},
   "outputs": [
    {
     "name": "stdout",
     "output_type": "stream",
     "text": [
      "C:\\Users\\danie\n"
     ]
    }
   ],
   "source": [
    "cd"
   ]
  },
  {
   "cell_type": "code",
   "execution_count": 17,
   "id": "718755e1-bb03-4293-af2a-3415007cbe3e",
   "metadata": {},
   "outputs": [],
   "source": [
    "DIR = \"C:/Users/danie/\""
   ]
  },
  {
   "cell_type": "code",
   "execution_count": 21,
   "id": "0d3dab7c-3be1-4184-b28a-29d95d38672e",
   "metadata": {},
   "outputs": [],
   "source": [
    "PATH = \"Documents/dev/Ai-Machine learning/Transformer - sentiment analysis on movie reviews/\""
   ]
  },
  {
   "cell_type": "code",
   "execution_count": 10,
   "id": "9710cb93-2894-4fb1-8da5-fd2a2b680857",
   "metadata": {},
   "outputs": [],
   "source": [
    "import os"
   ]
  },
  {
   "cell_type": "markdown",
   "id": "96b2b40c-eead-461d-baa5-c2c18249a94c",
   "metadata": {},
   "source": [
    "<h1> Download data and preprocessing </h1>"
   ]
  },
  {
   "cell_type": "code",
   "execution_count": 22,
   "id": "fa336fb3-e91a-4a73-b3c5-8d9626321b04",
   "metadata": {},
   "outputs": [
    {
     "name": "stdout",
     "output_type": "stream",
     "text": [
      "Downloading train.tsv.zip to C:/Users/danie/Documents/dev/Ai-Machine learning/Transformer - sentiment analysis on movie reviews\n"
     ]
    },
    {
     "name": "stderr",
     "output_type": "stream",
     "text": [
      "100%|██████████| 1.28M/1.28M [00:00<00:00, 40.5MB/s]"
     ]
    },
    {
     "name": "stdout",
     "output_type": "stream",
     "text": [
      "\n"
     ]
    },
    {
     "name": "stderr",
     "output_type": "stream",
     "text": [
      "\n"
     ]
    }
   ],
   "source": [
    "api.competition_download_file('sentiment-analysis-on-movie-reviews','train.tsv.zip', path=os.path.join(DIR,PATH))"
   ]
  },
  {
   "cell_type": "code",
   "execution_count": 24,
   "id": "505e5a42-61af-4d2d-99b3-56d9e76022d3",
   "metadata": {},
   "outputs": [
    {
     "name": "stdout",
     "output_type": "stream",
     "text": [
      "C:\\Users\\danie\\Documents\\dev\\Ai-Machine learning\\Transformer - sentiment analysis on movie reviews\n"
     ]
    }
   ],
   "source": [
    "%cd \"C:/Users/danie/Documents/dev/Ai-Machine learning/Transformer - sentiment analysis on movie reviews/\""
   ]
  },
  {
   "cell_type": "code",
   "execution_count": 26,
   "id": "11a4e3ad-f9fc-4914-8da7-6ac9d02aeaac",
   "metadata": {},
   "outputs": [],
   "source": [
    "import zipfile\n",
    "with zipfile.ZipFile('train.tsv.zip','r') as zipref:\n",
    "    zipref.extractall('./')"
   ]
  },
  {
   "cell_type": "code",
   "execution_count": 27,
   "id": "4cfbf38e-ac5c-493a-b38e-f55bf98da096",
   "metadata": {},
   "outputs": [],
   "source": [
    "import pandas as pd\n",
    "df = pd.read_csv(\"train.tsv\", sep= '\\t')"
   ]
  },
  {
   "cell_type": "code",
   "execution_count": 28,
   "id": "3d9b8031-d816-4dc3-87f1-f953bc648a33",
   "metadata": {},
   "outputs": [
    {
     "data": {
      "text/html": [
       "<div>\n",
       "<style scoped>\n",
       "    .dataframe tbody tr th:only-of-type {\n",
       "        vertical-align: middle;\n",
       "    }\n",
       "\n",
       "    .dataframe tbody tr th {\n",
       "        vertical-align: top;\n",
       "    }\n",
       "\n",
       "    .dataframe thead th {\n",
       "        text-align: right;\n",
       "    }\n",
       "</style>\n",
       "<table border=\"1\" class=\"dataframe\">\n",
       "  <thead>\n",
       "    <tr style=\"text-align: right;\">\n",
       "      <th></th>\n",
       "      <th>PhraseId</th>\n",
       "      <th>SentenceId</th>\n",
       "      <th>Phrase</th>\n",
       "      <th>Sentiment</th>\n",
       "    </tr>\n",
       "  </thead>\n",
       "  <tbody>\n",
       "    <tr>\n",
       "      <th>0</th>\n",
       "      <td>1</td>\n",
       "      <td>1</td>\n",
       "      <td>A series of escapades demonstrating the adage ...</td>\n",
       "      <td>1</td>\n",
       "    </tr>\n",
       "    <tr>\n",
       "      <th>1</th>\n",
       "      <td>2</td>\n",
       "      <td>1</td>\n",
       "      <td>A series of escapades demonstrating the adage ...</td>\n",
       "      <td>2</td>\n",
       "    </tr>\n",
       "    <tr>\n",
       "      <th>2</th>\n",
       "      <td>3</td>\n",
       "      <td>1</td>\n",
       "      <td>A series</td>\n",
       "      <td>2</td>\n",
       "    </tr>\n",
       "    <tr>\n",
       "      <th>3</th>\n",
       "      <td>4</td>\n",
       "      <td>1</td>\n",
       "      <td>A</td>\n",
       "      <td>2</td>\n",
       "    </tr>\n",
       "    <tr>\n",
       "      <th>4</th>\n",
       "      <td>5</td>\n",
       "      <td>1</td>\n",
       "      <td>series</td>\n",
       "      <td>2</td>\n",
       "    </tr>\n",
       "  </tbody>\n",
       "</table>\n",
       "</div>"
      ],
      "text/plain": [
       "   PhraseId  SentenceId                                             Phrase  \\\n",
       "0         1           1  A series of escapades demonstrating the adage ...   \n",
       "1         2           1  A series of escapades demonstrating the adage ...   \n",
       "2         3           1                                           A series   \n",
       "3         4           1                                                  A   \n",
       "4         5           1                                             series   \n",
       "\n",
       "   Sentiment  \n",
       "0          1  \n",
       "1          2  \n",
       "2          2  \n",
       "3          2  \n",
       "4          2  "
      ]
     },
     "execution_count": 28,
     "metadata": {},
     "output_type": "execute_result"
    }
   ],
   "source": [
    "df.head()"
   ]
  },
  {
   "cell_type": "code",
   "execution_count": 30,
   "id": "ab5a7d50-899e-4775-850d-06eaa4991e8b",
   "metadata": {},
   "outputs": [],
   "source": [
    "df.drop_duplicates(subset = \"SentenceId\", keep=\"first\", inplace = True) "
   ]
  },
  {
   "cell_type": "code",
   "execution_count": 31,
   "id": "b607c41a-b8a9-4fa4-b278-d51315a6a86d",
   "metadata": {},
   "outputs": [
    {
     "data": {
      "text/plain": [
       "8529"
      ]
     },
     "execution_count": 31,
     "metadata": {},
     "output_type": "execute_result"
    }
   ],
   "source": [
    "len(df)"
   ]
  },
  {
   "cell_type": "markdown",
   "id": "3061dd34-ac7a-4bd3-9f57-6cfe95ed5443",
   "metadata": {},
   "source": [
    "<h1> Encoding Data </h1>"
   ]
  },
  {
   "cell_type": "code",
   "execution_count": 35,
   "id": "8f251e64-4771-4186-a094-4128e1cdb664",
   "metadata": {},
   "outputs": [
    {
     "data": {
      "text/plain": [
       "'How many words in each phrase'"
      ]
     },
     "execution_count": 35,
     "metadata": {},
     "output_type": "execute_result"
    }
   ],
   "source": [
    "\"How many words in each phrase\""
   ]
  },
  {
   "cell_type": "code",
   "execution_count": 32,
   "id": "ac7a2417-87e4-40bd-b26d-135cfe0c0a28",
   "metadata": {},
   "outputs": [],
   "source": [
    "seqlen = df['Phrase'].apply(lambda x: len(x.split()))"
   ]
  },
  {
   "cell_type": "code",
   "execution_count": 33,
   "id": "d8b8bf5c-3c7e-4a98-9c7b-84d349bb2f6a",
   "metadata": {},
   "outputs": [],
   "source": [
    "import seaborn as sns\n",
    "import matplotlib.pyplot as plt\n"
   ]
  },
  {
   "cell_type": "code",
   "execution_count": 34,
   "id": "a8ac28b9-87ad-4ab9-9638-18dbe0ecfc04",
   "metadata": {},
   "outputs": [
    {
     "name": "stderr",
     "output_type": "stream",
     "text": [
      "C:\\Users\\danie\\AppData\\Local\\Temp\\ipykernel_13784\\4018981096.py:3: UserWarning: \n",
      "\n",
      "`distplot` is a deprecated function and will be removed in seaborn v0.14.0.\n",
      "\n",
      "Please adapt your code to use either `displot` (a figure-level function with\n",
      "similar flexibility) or `histplot` (an axes-level function for histograms).\n",
      "\n",
      "For a guide to updating your code to use the new functions, please see\n",
      "https://gist.github.com/mwaskom/de44147ed2974457ad6372750bbe5751\n",
      "\n",
      "  sns.distplot(seqlen)\n"
     ]
    },
    {
     "data": {
      "text/plain": [
       "<AxesSubplot:xlabel='Phrase', ylabel='Density'>"
      ]
     },
     "execution_count": 34,
     "metadata": {},
     "output_type": "execute_result"
    },
    {
     "data": {
      "image/png": "[encoded data removed]",
      "text/plain": [
       "<Figure size 1600x1000 with 1 Axes>"
      ]
     },
     "metadata": {},
     "output_type": "display_data"
    }
   ],
   "source": [
    "sns.set_style('darkgrid')\n",
    "plt.figure(figsize=(16,10))\n",
    "sns.distplot(seqlen)"
   ]
  },
  {
   "cell_type": "code",
   "execution_count": 36,
   "id": "bfa0bfbb-0d55-463b-bcb4-8f1fc06b29eb",
   "metadata": {},
   "outputs": [],
   "source": [
    "SEQ_LEN = 50"
   ]
  },
  {
   "cell_type": "code",
   "execution_count": 37,
   "id": "67d6e044-d448-467a-8dec-d9c95961d204",
   "metadata": {},
   "outputs": [
    {
     "ename": "ModuleNotFoundError",
     "evalue": "No module named 'transformers'",
     "output_type": "error",
     "traceback": [
      "\u001b[1;31m---------------------------------------------------------------------------\u001b[0m",
      "\u001b[1;31mModuleNotFoundError\u001b[0m                       Traceback (most recent call last)",
      "Cell \u001b[1;32mIn [37], line 1\u001b[0m\n\u001b[1;32m----> 1\u001b[0m \u001b[38;5;28;01mfrom\u001b[39;00m \u001b[38;5;21;01mtransformers\u001b[39;00m \u001b[38;5;28;01mimport\u001b[39;00m AutoTokenizer\n",
      "\u001b[1;31mModuleNotFoundError\u001b[0m: No module named 'transformers'"
     ]
    }
   ],
   "source": [
    "from transformers import AutoTokenizer"
   ]
  },
  {
   "cell_type": "code",
   "execution_count": 38,
   "id": "95029518-9337-4e46-96a3-d836e7915a1a",
   "metadata": {},
   "outputs": [
    {
     "name": "stdout",
     "output_type": "stream",
     "text": [
      "Collecting transformers\n",
      "  Downloading transformers-4.26.1-py3-none-any.whl (6.3 MB)\n",
      "     ---------------------------------------- 6.3/6.3 MB 4.7 MB/s eta 0:00:00\n",
      "Requirement already satisfied: packaging>=20.0 in c:\\users\\danie\\appdata\\roaming\\jupyterlab-desktop\\jlab_server\\lib\\site-packages (from transformers) (21.3)\n",
      "Collecting regex!=2019.12.17\n",
      "  Downloading regex-2022.10.31-cp38-cp38-win_amd64.whl (267 kB)\n",
      "     -------------------------------------- 267.7/267.7 kB 5.5 MB/s eta 0:00:00\n",
      "Requirement already satisfied: requests in c:\\users\\danie\\appdata\\roaming\\jupyterlab-desktop\\jlab_server\\lib\\site-packages (from transformers) (2.28.1)\n",
      "Requirement already satisfied: tqdm>=4.27 in c:\\users\\danie\\appdata\\roaming\\jupyterlab-desktop\\jlab_server\\lib\\site-packages (from transformers) (4.64.1)\n",
      "Collecting tokenizers!=0.11.3,<0.14,>=0.11.1\n",
      "  Downloading tokenizers-0.13.2-cp38-cp38-win_amd64.whl (3.3 MB)\n",
      "     ---------------------------------------- 3.3/3.3 MB 6.8 MB/s eta 0:00:00\n",
      "Requirement already satisfied: numpy>=1.17 in c:\\users\\danie\\appdata\\roaming\\jupyterlab-desktop\\jlab_server\\lib\\site-packages (from transformers) (1.23.2)\n",
      "Collecting filelock\n",
      "  Downloading filelock-3.9.0-py3-none-any.whl (9.7 kB)\n",
      "Requirement already satisfied: pyyaml>=5.1 in c:\\users\\danie\\appdata\\roaming\\jupyterlab-desktop\\jlab_server\\lib\\site-packages (from transformers) (6.0)\n",
      "Collecting huggingface-hub<1.0,>=0.11.0\n",
      "  Downloading huggingface_hub-0.12.1-py3-none-any.whl (190 kB)\n",
      "     ------------------------------------- 190.3/190.3 kB 11.3 MB/s eta 0:00:00\n",
      "Requirement already satisfied: typing-extensions>=3.7.4.3 in c:\\users\\danie\\appdata\\roaming\\jupyterlab-desktop\\jlab_server\\lib\\site-packages (from huggingface-hub<1.0,>=0.11.0->transformers) (4.3.0)\n",
      "Requirement already satisfied: pyparsing!=3.0.5,>=2.0.2 in c:\\users\\danie\\appdata\\roaming\\jupyterlab-desktop\\jlab_server\\lib\\site-packages (from packaging>=20.0->transformers) (3.0.9)\n",
      "Requirement already satisfied: colorama in c:\\users\\danie\\appdata\\roaming\\jupyterlab-desktop\\jlab_server\\lib\\site-packages (from tqdm>=4.27->transformers) (0.4.5)\n",
      "Requirement already satisfied: idna<4,>=2.5 in c:\\users\\danie\\appdata\\roaming\\jupyterlab-desktop\\jlab_server\\lib\\site-packages (from requests->transformers) (3.3)\n",
      "Requirement already satisfied: charset-normalizer<3,>=2 in c:\\users\\danie\\appdata\\roaming\\jupyterlab-desktop\\jlab_server\\lib\\site-packages (from requests->transformers) (2.1.1)\n",
      "Requirement already satisfied: urllib3<1.27,>=1.21.1 in c:\\users\\danie\\appdata\\roaming\\jupyterlab-desktop\\jlab_server\\lib\\site-packages (from requests->transformers) (1.26.11)\n",
      "Requirement already satisfied: certifi>=2017.4.17 in c:\\users\\danie\\appdata\\roaming\\jupyterlab-desktop\\jlab_server\\lib\\site-packages (from requests->transformers) (2022.6.15)\n",
      "Installing collected packages: tokenizers, regex, filelock, huggingface-hub, transformers\n",
      "Successfully installed filelock-3.9.0 huggingface-hub-0.12.1 regex-2022.10.31 tokenizers-0.13.2 transformers-4.26.1\n"
     ]
    }
   ],
   "source": [
    "!pip install transformers"
   ]
  },
  {
   "cell_type": "code",
   "execution_count": 39,
   "id": "a017b276-dfee-464a-baf2-d312e16ffac4",
   "metadata": {},
   "outputs": [],
   "source": [
    "from transformers import AutoTokenizer"
   ]
  },
  {
   "cell_type": "code",
   "execution_count": 40,
   "id": "c25c905f-9b5b-4e38-b6ae-96be1b417e83",
   "metadata": {},
   "outputs": [
    {
     "data": {
      "application/vnd.jupyter.widget-view+json": {
       "model_id": "0845abb6c5134fd38c9e4bddf3aa4be6",
       "version_major": 2,
       "version_minor": 0
      },
      "text/plain": [
       "Downloading (…)okenizer_config.json:   0%|          | 0.00/29.0 [00:00<?, ?B/s]"
      ]
     },
     "metadata": {},
     "output_type": "display_data"
    },
    {
     "data": {
      "application/vnd.jupyter.widget-view+json": {
       "model_id": "bef7447c75f744a692f34e8e3bff847b",
       "version_major": 2,
       "version_minor": 0
      },
      "text/plain": [
       "Downloading (…)lve/main/config.json:   0%|          | 0.00/570 [00:00<?, ?B/s]"
      ]
     },
     "metadata": {},
     "output_type": "display_data"
    },
    {
     "data": {
      "application/vnd.jupyter.widget-view+json": {
       "model_id": "531510eb74f34ff490c9ea286d4ca291",
       "version_major": 2,
       "version_minor": 0
      },
      "text/plain": [
       "Downloading (…)solve/main/vocab.txt:   0%|          | 0.00/213k [00:00<?, ?B/s]"
      ]
     },
     "metadata": {},
     "output_type": "display_data"
    },
    {
     "data": {
      "application/vnd.jupyter.widget-view+json": {
       "model_id": "95ad7864fa144112b48862edcc7b53c9",
       "version_major": 2,
       "version_minor": 0
      },
      "text/plain": [
       "Downloading (…)/main/tokenizer.json:   0%|          | 0.00/436k [00:00<?, ?B/s]"
      ]
     },
     "metadata": {},
     "output_type": "display_data"
    }
   ],
   "source": [
    "tokenizer = AutoTokenizer.from_pretrained('bert-base-cased')"
   ]
  },
  {
   "cell_type": "code",
   "execution_count": 45,
   "id": "df05aebc-7d25-43ec-b678-63907722f90e",
   "metadata": {},
   "outputs": [],
   "source": [
    "tokens = tokenizer.encode_plus(\"hello world\", max_length= SEQ_LEN, truncation=True, padding=\"max_length\", \n",
    "                               add_special_tokens = True, return_token_type_ids=False, return_attention_mask=True,\n",
    "                              return_tensors= 'tf')"
   ]
  },
  {
   "cell_type": "code",
   "execution_count": 46,
   "id": "17c355d2-0e37-45c8-8b48-96c56fe56855",
   "metadata": {},
   "outputs": [
    {
     "data": {
      "text/plain": [
       "{'input_ids': <tf.Tensor: shape=(1, 50), dtype=int32, numpy=\n",
       "array([[  101, 19082,  1362,   102,     0,     0,     0,     0,     0,\n",
       "            0,     0,     0,     0,     0,     0,     0,     0,     0,\n",
       "            0,     0,     0,     0,     0,     0,     0,     0,     0,\n",
       "            0,     0,     0,     0,     0,     0,     0,     0,     0,\n",
       "            0,     0,     0,     0,     0,     0,     0,     0,     0,\n",
       "            0,     0,     0,     0,     0]])>, 'attention_mask': <tf.Tensor: shape=(1, 50), dtype=int32, numpy=\n",
       "array([[1, 1, 1, 1, 0, 0, 0, 0, 0, 0, 0, 0, 0, 0, 0, 0, 0, 0, 0, 0, 0, 0,\n",
       "        0, 0, 0, 0, 0, 0, 0, 0, 0, 0, 0, 0, 0, 0, 0, 0, 0, 0, 0, 0, 0, 0,\n",
       "        0, 0, 0, 0, 0, 0]])>}"
      ]
     },
     "execution_count": 46,
     "metadata": {},
     "output_type": "execute_result"
    }
   ],
   "source": [
    "tokens"
   ]
  },
  {
   "cell_type": "code",
   "execution_count": 47,
   "id": "a5b180c5-f137-46dc-a956-59ea59f47113",
   "metadata": {},
   "outputs": [],
   "source": [
    "import numpy as np"
   ]
  },
  {
   "cell_type": "code",
   "execution_count": 48,
   "id": "5b6f73b0-d7ee-4267-94d6-19b417e90eb7",
   "metadata": {},
   "outputs": [],
   "source": [
    "Xids = np.zeros((len(df), SEQ_LEN))"
   ]
  },
  {
   "cell_type": "code",
   "execution_count": 49,
   "id": "5857d0f0-9c43-4d49-8976-ae5814941ef7",
   "metadata": {},
   "outputs": [],
   "source": [
    "Xmask = np.zeros((len(df), SEQ_LEN))"
   ]
  },
  {
   "cell_type": "code",
   "execution_count": 51,
   "id": "68980a05-8ac6-4a7f-b284-32c848e337c1",
   "metadata": {},
   "outputs": [
    {
     "data": {
      "text/plain": [
       "(8529, 50)"
      ]
     },
     "execution_count": 51,
     "metadata": {},
     "output_type": "execute_result"
    }
   ],
   "source": [
    "Xids.shape"
   ]
  },
  {
   "cell_type": "code",
   "execution_count": 55,
   "id": "e4d4270d-33a5-4fdf-bfcb-2f1dfc5bd01f",
   "metadata": {},
   "outputs": [],
   "source": [
    "for i, sequence in enumerate(df['Phrase']):\n",
    "    tokens = tokenizer.encode_plus(sequence, max_length = SEQ_LEN,\n",
    "                                   truncation=True, padding = \"max_length\",\n",
    "                                   add_special_tokens=True, return_token_type_ids=False,\n",
    "                                   return_attention_mask= True, return_tensors='tf')\n",
    "    Xids[i,:], Xmask[i,:] = tokens['input_ids'], tokens['attention_mask']"
   ]
  },
  {
   "cell_type": "code",
   "execution_count": 56,
   "id": "c25c3e1a-f594-4afb-bc77-12db9ea6e901",
   "metadata": {},
   "outputs": [
    {
     "data": {
      "text/plain": [
       "array([[ 101.,  138., 1326., ...,    0.,    0.,    0.],\n",
       "       [ 101., 1188., 3589., ...,    0.,    0.,    0.],\n",
       "       [ 101., 2431., 3899., ...,    0.,    0.,    0.],\n",
       "       ...,\n",
       "       [ 101.,  118.,  149., ...,    0.,    0.,    0.],\n",
       "       [ 101., 1109., 2523., ...,    0.,    0.,    0.],\n",
       "       [ 101., 1109., 1273., ...,    0.,    0.,    0.]])"
      ]
     },
     "execution_count": 56,
     "metadata": {},
     "output_type": "execute_result"
    }
   ],
   "source": [
    "Xids"
   ]
  },
  {
   "cell_type": "code",
   "execution_count": 57,
   "id": "0e9f3164-c1ee-4b83-9438-87a4c72ce04f",
   "metadata": {},
   "outputs": [
    {
     "data": {
      "text/plain": [
       "array([[1., 1., 1., ..., 0., 0., 0.],\n",
       "       [1., 1., 1., ..., 0., 0., 0.],\n",
       "       [1., 1., 1., ..., 0., 0., 0.],\n",
       "       ...,\n",
       "       [1., 1., 1., ..., 0., 0., 0.],\n",
       "       [1., 1., 1., ..., 0., 0., 0.],\n",
       "       [1., 1., 1., ..., 0., 0., 0.]])"
      ]
     },
     "execution_count": 57,
     "metadata": {},
     "output_type": "execute_result"
    }
   ],
   "source": [
    "Xmask"
   ]
  },
  {
   "cell_type": "code",
   "execution_count": 59,
   "id": "f486bac7-719d-4e5a-ab25-9a3750d76ac0",
   "metadata": {},
   "outputs": [
    {
     "data": {
      "text/plain": [
       "<bound method Series.unique of 0         1\n",
       "63        4\n",
       "81        1\n",
       "116       3\n",
       "156       1\n",
       "         ..\n",
       "155984    2\n",
       "155997    2\n",
       "156021    1\n",
       "156031    1\n",
       "156039    2\n",
       "Name: Sentiment, Length: 8529, dtype: int64>"
      ]
     },
     "execution_count": 59,
     "metadata": {},
     "output_type": "execute_result"
    }
   ],
   "source": [
    "df.Sentiment.unique"
   ]
  },
  {
   "cell_type": "markdown",
   "id": "d7c6e495-18c3-41a9-9aad-86ff3498fca3",
   "metadata": {},
   "source": [
    "<h1> One hot encoding </h1>"
   ]
  },
  {
   "cell_type": "code",
   "execution_count": 61,
   "id": "243b3f57-a9ba-4f74-98b2-cf5cfd334cc6",
   "metadata": {},
   "outputs": [
    {
     "data": {
      "text/plain": [
       "8529"
      ]
     },
     "execution_count": 61,
     "metadata": {},
     "output_type": "execute_result"
    }
   ],
   "source": [
    "arr = df['Sentiment'].values\n",
    "arr.size"
   ]
  },
  {
   "cell_type": "code",
   "execution_count": 62,
   "id": "0d4f7583-1297-465e-af62-74fdc41c4860",
   "metadata": {},
   "outputs": [
    {
     "data": {
      "text/plain": [
       "(8529, 5)"
      ]
     },
     "execution_count": 62,
     "metadata": {},
     "output_type": "execute_result"
    }
   ],
   "source": [
    "labels = np.zeros((arr.size, arr.max()+1))\n",
    "labels.shape"
   ]
  },
  {
   "cell_type": "code",
   "execution_count": 63,
   "id": "a006c31a-236b-42f8-8498-b546a5f773a7",
   "metadata": {},
   "outputs": [
    {
     "data": {
      "text/plain": [
       "array([[0., 1., 0., 0., 0.],\n",
       "       [0., 0., 0., 0., 1.],\n",
       "       [0., 1., 0., 0., 0.],\n",
       "       ...,\n",
       "       [0., 1., 0., 0., 0.],\n",
       "       [0., 1., 0., 0., 0.],\n",
       "       [0., 0., 1., 0., 0.]])"
      ]
     },
     "execution_count": 63,
     "metadata": {},
     "output_type": "execute_result"
    }
   ],
   "source": [
    "labels[np.arange(arr.size),arr] = 1\n",
    "labels"
   ]
  },
  {
   "cell_type": "code",
   "execution_count": 64,
   "id": "592b6383-d7bb-4316-b3d3-c835d0460f59",
   "metadata": {},
   "outputs": [],
   "source": [
    "with open('xids.npy', 'wb') as f:\n",
    "    np.save(f, Xids)\n",
    "with open('xmask.npy', 'wb') as f:\n",
    "    np.save(f, Xmask)\n",
    "with open('labels.npy', 'wb') as f:\n",
    "    np.save(f, labels)\n",
    "\n",
    "del df, Xids, Xmask, labels"
   ]
  },
  {
   "cell_type": "code",
   "execution_count": 65,
   "id": "5e3ee461-a3f3-46bf-bcc2-410f0511293b",
   "metadata": {},
   "outputs": [],
   "source": [
    "with open('xids.npy', 'rb') as fp:\n",
    "    Xids = np.load(fp)\n",
    "with open('xmask.npy', 'rb') as fp:\n",
    "    Xmask = np.load(fp)\n",
    "with open('labels.npy', 'rb') as fp:\n",
    "    labels = np.load(fp)"
   ]
  },
  {
   "cell_type": "markdown",
   "id": "8d019ba6-3109-4473-a38c-d97dccf9762a",
   "metadata": {},
   "source": [
    "<h1> Adding these arrays in tensorflow dataset structure </h1>"
   ]
  },
  {
   "cell_type": "code",
   "execution_count": 66,
   "id": "0d5ddb12-f72c-492f-9388-ca57fa26b2fd",
   "metadata": {},
   "outputs": [
    {
     "data": {
      "text/plain": [
       "[LogicalDevice(name='/device:GPU:0', device_type='GPU')]"
      ]
     },
     "execution_count": 66,
     "metadata": {},
     "output_type": "execute_result"
    }
   ],
   "source": [
    "import tensorflow as tf\n",
    "tf.config.experimental.list_logical_devices('GPU')"
   ]
  },
  {
   "cell_type": "code",
   "execution_count": 67,
   "id": "a7a3e342-9f51-41be-bda6-b8f1858e4dae",
   "metadata": {},
   "outputs": [],
   "source": [
    "dataset = tf.data.Dataset.from_tensor_slices((Xids,Xmask,labels))"
   ]
  },
  {
   "cell_type": "code",
   "execution_count": 68,
   "id": "41fa73c5-9e84-4ae0-a740-d7ab8b5cc6d8",
   "metadata": {},
   "outputs": [
    {
     "data": {
      "text/plain": [
       "'Create generator that contains all data in tuples'"
      ]
     },
     "execution_count": 68,
     "metadata": {},
     "output_type": "execute_result"
    }
   ],
   "source": [
    "\"Create generator that contains all data in tuples\""
   ]
  },
  {
   "cell_type": "code",
   "execution_count": 69,
   "id": "3daa8d19-f986-4261-8d88-96ecc5335ed6",
   "metadata": {},
   "outputs": [
    {
     "name": "stdout",
     "output_type": "stream",
     "text": [
      "(<tf.Tensor: shape=(50,), dtype=float64, numpy=\n",
      "array([  101.,   138.,  1326.,  1104., 13936., 25265., 16913., 15107.,\n",
      "        1103.,  8050.,  2553.,  1115.,  1184.,  1110.,  1363.,  1111.,\n",
      "        1103., 20398.,  1110.,  1145.,  1363.,  1111.,  1103.,   176.,\n",
      "        9900.,   117.,  1199.,  1104.,  1134.,  5411.,  1821., 14225.,\n",
      "        1133.,  3839.,  1104.,  1134.,  7919.,  1106.,  1277.,  1104.,\n",
      "         170.,  1642.,   119.,   102.,     0.,     0.,     0.,     0.,\n",
      "           0.,     0.])>, <tf.Tensor: shape=(50,), dtype=float64, numpy=\n",
      "array([1., 1., 1., 1., 1., 1., 1., 1., 1., 1., 1., 1., 1., 1., 1., 1., 1.,\n",
      "       1., 1., 1., 1., 1., 1., 1., 1., 1., 1., 1., 1., 1., 1., 1., 1., 1.,\n",
      "       1., 1., 1., 1., 1., 1., 1., 1., 1., 1., 0., 0., 0., 0., 0., 0.])>, <tf.Tensor: shape=(5,), dtype=float64, numpy=array([0., 1., 0., 0., 0.])>)\n"
     ]
    }
   ],
   "source": [
    "for i in dataset.take(1):\n",
    "    print(i)"
   ]
  },
  {
   "cell_type": "code",
   "execution_count": 71,
   "id": "24491ee2-502e-47e8-bc24-8d637ce5516d",
   "metadata": {},
   "outputs": [
    {
     "data": {
      "text/plain": [
       "'Tensorflow expects input data in tuple format, 0 index values 1 index labels'"
      ]
     },
     "execution_count": 71,
     "metadata": {},
     "output_type": "execute_result"
    }
   ],
   "source": [
    "\"Tensorflow expects input data in tuple format, 0 index values 1 index labels\""
   ]
  },
  {
   "cell_type": "code",
   "execution_count": 75,
   "id": "5fe50358-8253-46f2-bad8-517a425046f7",
   "metadata": {},
   "outputs": [],
   "source": [
    "def map_func(input_ids, masks, labels):\n",
    "    return {'input_ids' : input_ids, 'attention_mask' : masks}, labels"
   ]
  },
  {
   "cell_type": "code",
   "execution_count": 73,
   "id": "2b87a65e-f14a-4bee-acc0-34b0a83d494b",
   "metadata": {},
   "outputs": [
    {
     "data": {
      "text/plain": [
       "'Mapping the function to return tuple'"
      ]
     },
     "execution_count": 73,
     "metadata": {},
     "output_type": "execute_result"
    }
   ],
   "source": [
    "\"Mapping the function to return tuple\""
   ]
  },
  {
   "cell_type": "code",
   "execution_count": 76,
   "id": "6d5e7db8-c589-40b1-9d17-3668a909b151",
   "metadata": {},
   "outputs": [],
   "source": [
    "dataset = dataset.map(map_func)"
   ]
  },
  {
   "cell_type": "code",
   "execution_count": 77,
   "id": "5a914866-482f-4664-b85a-3fd85bf7eb3e",
   "metadata": {},
   "outputs": [
    {
     "name": "stdout",
     "output_type": "stream",
     "text": [
      "({'input_ids': <tf.Tensor: shape=(50,), dtype=float64, numpy=\n",
      "array([  101.,   138.,  1326.,  1104., 13936., 25265., 16913., 15107.,\n",
      "        1103.,  8050.,  2553.,  1115.,  1184.,  1110.,  1363.,  1111.,\n",
      "        1103., 20398.,  1110.,  1145.,  1363.,  1111.,  1103.,   176.,\n",
      "        9900.,   117.,  1199.,  1104.,  1134.,  5411.,  1821., 14225.,\n",
      "        1133.,  3839.,  1104.,  1134.,  7919.,  1106.,  1277.,  1104.,\n",
      "         170.,  1642.,   119.,   102.,     0.,     0.,     0.,     0.,\n",
      "           0.,     0.])>, 'attention_mask': <tf.Tensor: shape=(50,), dtype=float64, numpy=\n",
      "array([1., 1., 1., 1., 1., 1., 1., 1., 1., 1., 1., 1., 1., 1., 1., 1., 1.,\n",
      "       1., 1., 1., 1., 1., 1., 1., 1., 1., 1., 1., 1., 1., 1., 1., 1., 1.,\n",
      "       1., 1., 1., 1., 1., 1., 1., 1., 1., 1., 0., 0., 0., 0., 0., 0.])>}, <tf.Tensor: shape=(5,), dtype=float64, numpy=array([0., 1., 0., 0., 0.])>)\n"
     ]
    }
   ],
   "source": [
    "for i in dataset.take(1):\n",
    "    print(i)"
   ]
  },
  {
   "cell_type": "code",
   "execution_count": 78,
   "id": "5fc7f329-0393-41dd-83cf-7878ccdfdb46",
   "metadata": {},
   "outputs": [
    {
     "data": {
      "text/plain": [
       "'We have created a input dictionary that is formed by attention and mask, and te tensor array of labels'"
      ]
     },
     "execution_count": 78,
     "metadata": {},
     "output_type": "execute_result"
    }
   ],
   "source": [
    "\"We have created a input dictionary that is formed by attention and mask, and te tensor array of labels\""
   ]
  },
  {
   "cell_type": "markdown",
   "id": "ee2a73b9-8fb3-454d-88c1-150d5a04d131",
   "metadata": {},
   "source": [
    "Shuffling and batching\n"
   ]
  },
  {
   "cell_type": "code",
   "execution_count": 79,
   "id": "a2316cd3-c374-4e55-a220-3ee32d5ce256",
   "metadata": {},
   "outputs": [],
   "source": [
    "dataset = dataset.shuffle(100000).batch(32)"
   ]
  },
  {
   "cell_type": "code",
   "execution_count": 80,
   "id": "f0bba8f0-0c4e-47b0-9c32-90ca40ed1e7b",
   "metadata": {},
   "outputs": [
    {
     "data": {
      "text/plain": [
       "'Splitting into training and validation sets'"
      ]
     },
     "execution_count": 80,
     "metadata": {},
     "output_type": "execute_result"
    }
   ],
   "source": [
    "\"Splitting into training and validation sets\""
   ]
  },
  {
   "cell_type": "code",
   "execution_count": 81,
   "id": "643c58b7-0b7e-4380-a3c5-63dd11163be9",
   "metadata": {},
   "outputs": [],
   "source": [
    "DS_LEN = len(list(dataset))"
   ]
  },
  {
   "cell_type": "code",
   "execution_count": 82,
   "id": "29f62647-e5ba-4d51-87e6-3a69a1dc14bc",
   "metadata": {},
   "outputs": [
    {
     "data": {
      "text/plain": [
       "267"
      ]
     },
     "execution_count": 82,
     "metadata": {},
     "output_type": "execute_result"
    }
   ],
   "source": [
    "DS_LEN"
   ]
  },
  {
   "cell_type": "code",
   "execution_count": 83,
   "id": "d4434438-8294-4888-a157-610a8b78a936",
   "metadata": {},
   "outputs": [],
   "source": [
    "SPLIT = .9"
   ]
  },
  {
   "cell_type": "code",
   "execution_count": 84,
   "id": "c33ee059-85c2-4a63-9a1a-48fb30092dec",
   "metadata": {},
   "outputs": [],
   "source": [
    "train = dataset.take(round(DS_LEN*SPLIT))\n",
    "val = dataset.skip(round(DS_LEN*SPLIT))\n",
    "\n",
    "del dataset"
   ]
  },
  {
   "cell_type": "markdown",
   "id": "b06519c2-53c4-4f92-ae00-bec3e3fac9c6",
   "metadata": {},
   "source": [
    "<h1> Building Model Architecture </h1>"
   ]
  },
  {
   "cell_type": "code",
   "execution_count": 85,
   "id": "38a6fdac-d2c8-4f9b-a02f-583d871d28f9",
   "metadata": {},
   "outputs": [],
   "source": [
    "from transformers import TFAutoModel\n"
   ]
  },
  {
   "cell_type": "code",
   "execution_count": 86,
   "id": "f92dca14-e230-4718-a4e3-00008e50a990",
   "metadata": {},
   "outputs": [
    {
     "data": {
      "application/vnd.jupyter.widget-view+json": {
       "model_id": "01fa58fb73204dfeaf7fc261ad5f95b5",
       "version_major": 2,
       "version_minor": 0
      },
      "text/plain": [
       "Downloading (…)\"tf_model.h5\";:   0%|          | 0.00/527M [00:00<?, ?B/s]"
      ]
     },
     "metadata": {},
     "output_type": "display_data"
    },
    {
     "name": "stderr",
     "output_type": "stream",
     "text": [
      "Some layers from the model checkpoint at bert-base-cased were not used when initializing TFBertModel: ['nsp___cls', 'mlm___cls']\n",
      "- This IS expected if you are initializing TFBertModel from the checkpoint of a model trained on another task or with another architecture (e.g. initializing a BertForSequenceClassification model from a BertForPreTraining model).\n",
      "- This IS NOT expected if you are initializing TFBertModel from the checkpoint of a model that you expect to be exactly identical (initializing a BertForSequenceClassification model from a BertForSequenceClassification model).\n",
      "All the layers of TFBertModel were initialized from the model checkpoint at bert-base-cased.\n",
      "If your task is similar to the task the model of the checkpoint was trained on, you can already use TFBertModel for predictions without further training.\n"
     ]
    }
   ],
   "source": [
    "bert = TFAutoModel.from_pretrained('bert-base-cased')"
   ]
  },
  {
   "cell_type": "code",
   "execution_count": 92,
   "id": "778df5b5-42fb-4572-83ad-8ec87284d19e",
   "metadata": {},
   "outputs": [],
   "source": [
    "input_ids = tf.keras.layers.Input(shape=(SEQ_LEN,), name = 'input_ids', dtype='int32')\n",
    "mask = tf.keras.layers.Input(shape=(SEQ_LEN,), name = 'attention_mask', dtype='int32')\n",
    "\n",
    "embeddings = bert(input_ids, attention_mask = mask)[0]\n",
    "\n",
    "X = tf.keras.layers.GlobalMaxPool1D()(embeddings)\n",
    "X = tf.keras.layers.BatchNormalization()(X)\n",
    "X = tf.keras.layers.Dense(128, activation='relu')(X)\n",
    "X = tf.keras.layers.Dropout(0.1)(X)\n",
    "X = tf.keras.layers.Dense(32, activation='relu')(X)\n",
    "y = tf.keras.layers.Dense(5, activation = 'softmax', name = 'output')(X)\n",
    "\n",
    "model = tf.keras.Model(inputs=[input_ids, mask], outputs = y)\n",
    "\n",
    "model.layers[2].trainable = False\n"
   ]
  },
  {
   "cell_type": "code",
   "execution_count": 93,
   "id": "355a055e-fcea-4fb0-bf21-05002e9c6e8d",
   "metadata": {},
   "outputs": [
    {
     "name": "stdout",
     "output_type": "stream",
     "text": [
      "Model: \"model_1\"\n",
      "__________________________________________________________________________________________________\n",
      " Layer (type)                   Output Shape         Param #     Connected to                     \n",
      "==================================================================================================\n",
      " input_ids (InputLayer)         [(None, 50)]         0           []                               \n",
      "                                                                                                  \n",
      " attention_mask (InputLayer)    [(None, 50)]         0           []                               \n",
      "                                                                                                  \n",
      " tf_bert_model (TFBertModel)    TFBaseModelOutputWi  108310272   ['input_ids[0][0]',              \n",
      "                                thPoolingAndCrossAt               'attention_mask[0][0]']         \n",
      "                                tentions(last_hidde                                               \n",
      "                                n_state=(None, 50,                                                \n",
      "                                768),                                                             \n",
      "                                 pooler_output=(Non                                               \n",
      "                                e, 768),                                                          \n",
      "                                 past_key_values=No                                               \n",
      "                                ne, hidden_states=N                                               \n",
      "                                one, attentions=Non                                               \n",
      "                                e, cross_attentions                                               \n",
      "                                =None)                                                            \n",
      "                                                                                                  \n",
      " global_max_pooling1d_2 (Global  (None, 768)         0           ['tf_bert_model[3][0]']          \n",
      " MaxPooling1D)                                                                                    \n",
      "                                                                                                  \n",
      " batch_normalization_1 (BatchNo  (None, 768)         3072        ['global_max_pooling1d_2[0][0]'] \n",
      " rmalization)                                                                                     \n",
      "                                                                                                  \n",
      " dense_2 (Dense)                (None, 128)          98432       ['batch_normalization_1[0][0]']  \n",
      "                                                                                                  \n",
      " dropout_38 (Dropout)           (None, 128)          0           ['dense_2[0][0]']                \n",
      "                                                                                                  \n",
      " dense_3 (Dense)                (None, 32)           4128        ['dropout_38[0][0]']             \n",
      "                                                                                                  \n",
      " output (Dense)                 (None, 5)            165         ['dense_3[0][0]']                \n",
      "                                                                                                  \n",
      "==================================================================================================\n",
      "Total params: 108,416,069\n",
      "Trainable params: 104,261\n",
      "Non-trainable params: 108,311,808\n",
      "__________________________________________________________________________________________________\n"
     ]
    }
   ],
   "source": [
    "model.summary()"
   ]
  },
  {
   "cell_type": "markdown",
   "id": "1141fddc-824a-4506-9726-dabc080d76a1",
   "metadata": {},
   "source": [
    "Optimizer"
   ]
  },
  {
   "cell_type": "code",
   "execution_count": 97,
   "id": "2bf912f1-08ce-49c5-bad4-f5fdb00eca5a",
   "metadata": {},
   "outputs": [],
   "source": [
    "Optimizer = tf.keras.optimizers.Adam(0.01)\n",
    "loss = tf.keras.losses.CategoricalCrossentropy()\n",
    "acc = tf.keras.metrics.CategoricalAccuracy('accuracy')\n",
    "\n",
    "model.compile(optimizer = Optimizer, loss = loss, metrics= [acc])"
   ]
  },
  {
   "cell_type": "code",
   "execution_count": 99,
   "id": "492e6c83-8c33-4cbd-bafd-aab612371230",
   "metadata": {},
   "outputs": [
    {
     "name": "stdout",
     "output_type": "stream",
     "text": [
      "Epoch 1/140\n",
      "240/240 [==============================] - 31s 90ms/step - loss: 1.4734 - accuracy: 0.3616 - val_loss: 1.3271 - val_accuracy: 0.3969\n",
      "Epoch 2/140\n",
      "240/240 [==============================] - 18s 75ms/step - loss: 1.3506 - accuracy: 0.4092 - val_loss: 1.2794 - val_accuracy: 0.4323\n",
      "Epoch 3/140\n",
      "240/240 [==============================] - 18s 75ms/step - loss: 1.3325 - accuracy: 0.4046 - val_loss: 1.3245 - val_accuracy: 0.4370\n",
      "Epoch 4/140\n",
      "240/240 [==============================] - 18s 76ms/step - loss: 1.3400 - accuracy: 0.4077 - val_loss: 1.2333 - val_accuracy: 0.4582\n",
      "Epoch 5/140\n",
      "240/240 [==============================] - 18s 76ms/step - loss: 1.3095 - accuracy: 0.4236 - val_loss: 1.2129 - val_accuracy: 0.4629\n",
      "Epoch 6/140\n",
      "240/240 [==============================] - 18s 76ms/step - loss: 1.3098 - accuracy: 0.4298 - val_loss: 1.2961 - val_accuracy: 0.4240\n",
      "Epoch 7/140\n",
      "240/240 [==============================] - 18s 76ms/step - loss: 1.2976 - accuracy: 0.4285 - val_loss: 1.1721 - val_accuracy: 0.4947\n",
      "Epoch 8/140\n",
      "240/240 [==============================] - 18s 76ms/step - loss: 1.3024 - accuracy: 0.4197 - val_loss: 1.2368 - val_accuracy: 0.4205\n",
      "Epoch 9/140\n",
      "240/240 [==============================] - 18s 75ms/step - loss: 1.2950 - accuracy: 0.4326 - val_loss: 1.1761 - val_accuracy: 0.4959\n",
      "Epoch 10/140\n",
      "240/240 [==============================] - 18s 75ms/step - loss: 1.2780 - accuracy: 0.4318 - val_loss: 1.1528 - val_accuracy: 0.5077\n",
      "Epoch 11/140\n",
      "240/240 [==============================] - 18s 75ms/step - loss: 1.2608 - accuracy: 0.4492 - val_loss: 1.2205 - val_accuracy: 0.4358\n",
      "Epoch 12/140\n",
      "240/240 [==============================] - 18s 75ms/step - loss: 1.2793 - accuracy: 0.4430 - val_loss: 1.1759 - val_accuracy: 0.4935\n",
      "Epoch 13/140\n",
      "240/240 [==============================] - 18s 75ms/step - loss: 1.2732 - accuracy: 0.4447 - val_loss: 1.1354 - val_accuracy: 0.5065\n",
      "Epoch 14/140\n",
      "240/240 [==============================] - 18s 76ms/step - loss: 1.2710 - accuracy: 0.4405 - val_loss: 1.1598 - val_accuracy: 0.4888\n",
      "Epoch 15/140\n",
      "240/240 [==============================] - 18s 76ms/step - loss: 1.2699 - accuracy: 0.4391 - val_loss: 1.1274 - val_accuracy: 0.5041\n",
      "Epoch 16/140\n",
      "240/240 [==============================] - 18s 76ms/step - loss: 1.2427 - accuracy: 0.4533 - val_loss: 1.1010 - val_accuracy: 0.5124\n",
      "Epoch 17/140\n",
      "240/240 [==============================] - 18s 77ms/step - loss: 1.2435 - accuracy: 0.4582 - val_loss: 1.1021 - val_accuracy: 0.5171\n",
      "Epoch 18/140\n",
      "240/240 [==============================] - 18s 76ms/step - loss: 1.2441 - accuracy: 0.4520 - val_loss: 1.1491 - val_accuracy: 0.4594\n",
      "Epoch 19/140\n",
      "240/240 [==============================] - 18s 75ms/step - loss: 1.2332 - accuracy: 0.4573 - val_loss: 1.1307 - val_accuracy: 0.5112\n",
      "Epoch 20/140\n",
      "240/240 [==============================] - 18s 76ms/step - loss: 1.2337 - accuracy: 0.4544 - val_loss: 1.0586 - val_accuracy: 0.5253\n",
      "Epoch 21/140\n",
      "240/240 [==============================] - 18s 76ms/step - loss: 1.2130 - accuracy: 0.4559 - val_loss: 1.0365 - val_accuracy: 0.5418\n",
      "Epoch 22/140\n",
      "240/240 [==============================] - 18s 77ms/step - loss: 1.2280 - accuracy: 0.4596 - val_loss: 1.1088 - val_accuracy: 0.5077\n",
      "Epoch 23/140\n",
      "240/240 [==============================] - 18s 75ms/step - loss: 1.2121 - accuracy: 0.4673 - val_loss: 1.0947 - val_accuracy: 0.4865\n",
      "Epoch 24/140\n",
      "240/240 [==============================] - 18s 75ms/step - loss: 1.2207 - accuracy: 0.4669 - val_loss: 1.0530 - val_accuracy: 0.5371\n",
      "Epoch 25/140\n",
      "240/240 [==============================] - 18s 75ms/step - loss: 1.2123 - accuracy: 0.4669 - val_loss: 1.0348 - val_accuracy: 0.5041\n",
      "Epoch 26/140\n",
      "240/240 [==============================] - 18s 76ms/step - loss: 1.1871 - accuracy: 0.4751 - val_loss: 0.9433 - val_accuracy: 0.5748\n",
      "Epoch 27/140\n",
      "240/240 [==============================] - 18s 75ms/step - loss: 1.2026 - accuracy: 0.4730 - val_loss: 1.1888 - val_accuracy: 0.4817\n",
      "Epoch 28/140\n",
      "240/240 [==============================] - 18s 76ms/step - loss: 1.1814 - accuracy: 0.4781 - val_loss: 1.1609 - val_accuracy: 0.4841\n",
      "Epoch 29/140\n",
      "240/240 [==============================] - 18s 76ms/step - loss: 1.1995 - accuracy: 0.4746 - val_loss: 1.0008 - val_accuracy: 0.5642\n",
      "Epoch 30/140\n",
      "240/240 [==============================] - 18s 76ms/step - loss: 1.1719 - accuracy: 0.4796 - val_loss: 0.9535 - val_accuracy: 0.5995\n",
      "Epoch 31/140\n",
      "240/240 [==============================] - 18s 76ms/step - loss: 1.1716 - accuracy: 0.4820 - val_loss: 0.9983 - val_accuracy: 0.6007\n",
      "Epoch 32/140\n",
      "240/240 [==============================] - 18s 76ms/step - loss: 1.1743 - accuracy: 0.4884 - val_loss: 1.0011 - val_accuracy: 0.5383\n",
      "Epoch 33/140\n",
      "240/240 [==============================] - 18s 76ms/step - loss: 1.1574 - accuracy: 0.4889 - val_loss: 0.9494 - val_accuracy: 0.5571\n",
      "Epoch 34/140\n",
      "240/240 [==============================] - 18s 75ms/step - loss: 1.1485 - accuracy: 0.4966 - val_loss: 0.9973 - val_accuracy: 0.5760\n",
      "Epoch 35/140\n",
      "240/240 [==============================] - 18s 75ms/step - loss: 1.1430 - accuracy: 0.5049 - val_loss: 0.9937 - val_accuracy: 0.5571\n",
      "Epoch 36/140\n",
      "240/240 [==============================] - 18s 76ms/step - loss: 1.1542 - accuracy: 0.4952 - val_loss: 0.9580 - val_accuracy: 0.5913\n",
      "Epoch 37/140\n",
      "240/240 [==============================] - 18s 76ms/step - loss: 1.1294 - accuracy: 0.5017 - val_loss: 0.9805 - val_accuracy: 0.5736\n",
      "Epoch 38/140\n",
      "240/240 [==============================] - 18s 76ms/step - loss: 1.1674 - accuracy: 0.4875 - val_loss: 0.9248 - val_accuracy: 0.5866\n",
      "Epoch 39/140\n",
      "240/240 [==============================] - 18s 76ms/step - loss: 1.1419 - accuracy: 0.4984 - val_loss: 1.0086 - val_accuracy: 0.5654\n",
      "Epoch 40/140\n",
      "240/240 [==============================] - 18s 76ms/step - loss: 1.1350 - accuracy: 0.5077 - val_loss: 0.9364 - val_accuracy: 0.6266\n",
      "Epoch 41/140\n",
      "240/240 [==============================] - 18s 76ms/step - loss: 1.1184 - accuracy: 0.5102 - val_loss: 0.9146 - val_accuracy: 0.6090\n",
      "Epoch 42/140\n",
      "240/240 [==============================] - 18s 76ms/step - loss: 1.1317 - accuracy: 0.5048 - val_loss: 0.8982 - val_accuracy: 0.6266\n",
      "Epoch 43/140\n",
      "240/240 [==============================] - 18s 76ms/step - loss: 1.1256 - accuracy: 0.5184 - val_loss: 0.8836 - val_accuracy: 0.6360\n",
      "Epoch 44/140\n",
      "240/240 [==============================] - 18s 77ms/step - loss: 1.1405 - accuracy: 0.5055 - val_loss: 0.9047 - val_accuracy: 0.6196\n",
      "Epoch 45/140\n",
      "240/240 [==============================] - 18s 76ms/step - loss: 1.1250 - accuracy: 0.5055 - val_loss: 0.8735 - val_accuracy: 0.6266\n",
      "Epoch 46/140\n",
      "240/240 [==============================] - 18s 76ms/step - loss: 1.1133 - accuracy: 0.5109 - val_loss: 0.9006 - val_accuracy: 0.6160\n",
      "Epoch 47/140\n",
      "240/240 [==============================] - 18s 76ms/step - loss: 1.1128 - accuracy: 0.5151 - val_loss: 0.8645 - val_accuracy: 0.6266\n",
      "Epoch 48/140\n",
      "240/240 [==============================] - 18s 76ms/step - loss: 1.1004 - accuracy: 0.5146 - val_loss: 0.8762 - val_accuracy: 0.6066\n",
      "Epoch 49/140\n",
      "240/240 [==============================] - 18s 76ms/step - loss: 1.0810 - accuracy: 0.5375 - val_loss: 0.8991 - val_accuracy: 0.6207\n",
      "Epoch 50/140\n",
      "240/240 [==============================] - 18s 76ms/step - loss: 1.0848 - accuracy: 0.5342 - val_loss: 0.8385 - val_accuracy: 0.6832\n",
      "Epoch 51/140\n",
      "240/240 [==============================] - 18s 76ms/step - loss: 1.0925 - accuracy: 0.5379 - val_loss: 0.8378 - val_accuracy: 0.6949\n",
      "Epoch 52/140\n",
      "240/240 [==============================] - 18s 76ms/step - loss: 1.0793 - accuracy: 0.5393 - val_loss: 0.7741 - val_accuracy: 0.6949\n",
      "Epoch 53/140\n",
      "240/240 [==============================] - 18s 76ms/step - loss: 1.0732 - accuracy: 0.5507 - val_loss: 0.8129 - val_accuracy: 0.6820\n",
      "Epoch 54/140\n",
      "240/240 [==============================] - 19s 80ms/step - loss: 1.0720 - accuracy: 0.5409 - val_loss: 0.8728 - val_accuracy: 0.6678\n",
      "Epoch 55/140\n",
      "240/240 [==============================] - 18s 76ms/step - loss: 1.0699 - accuracy: 0.5404 - val_loss: 0.8050 - val_accuracy: 0.6678\n",
      "Epoch 56/140\n",
      "240/240 [==============================] - 18s 76ms/step - loss: 1.0748 - accuracy: 0.5447 - val_loss: 0.8261 - val_accuracy: 0.6938\n",
      "Epoch 57/140\n",
      "240/240 [==============================] - 18s 76ms/step - loss: 1.0606 - accuracy: 0.5475 - val_loss: 0.8584 - val_accuracy: 0.6466\n",
      "Epoch 58/140\n",
      "240/240 [==============================] - 18s 76ms/step - loss: 1.0425 - accuracy: 0.5557 - val_loss: 0.7944 - val_accuracy: 0.6973\n",
      "Epoch 59/140\n",
      "240/240 [==============================] - 18s 76ms/step - loss: 1.0816 - accuracy: 0.5396 - val_loss: 0.8258 - val_accuracy: 0.6549\n",
      "Epoch 60/140\n",
      "240/240 [==============================] - 18s 76ms/step - loss: 1.0803 - accuracy: 0.5391 - val_loss: 0.8605 - val_accuracy: 0.6360\n",
      "Epoch 61/140\n",
      "240/240 [==============================] - 18s 76ms/step - loss: 1.0715 - accuracy: 0.5458 - val_loss: 0.8314 - val_accuracy: 0.6455\n",
      "Epoch 62/140\n",
      "240/240 [==============================] - 18s 76ms/step - loss: 1.0332 - accuracy: 0.5642 - val_loss: 0.7768 - val_accuracy: 0.7385\n",
      "Epoch 63/140\n",
      "240/240 [==============================] - 18s 76ms/step - loss: 1.0466 - accuracy: 0.5557 - val_loss: 0.7544 - val_accuracy: 0.7197\n",
      "Epoch 64/140\n",
      "240/240 [==============================] - 19s 77ms/step - loss: 1.0512 - accuracy: 0.5521 - val_loss: 0.7461 - val_accuracy: 0.7138\n",
      "Epoch 65/140\n",
      "240/240 [==============================] - 18s 76ms/step - loss: 1.0484 - accuracy: 0.5573 - val_loss: 0.8225 - val_accuracy: 0.6396\n",
      "Epoch 66/140\n",
      "240/240 [==============================] - 18s 76ms/step - loss: 1.0310 - accuracy: 0.5613 - val_loss: 0.7396 - val_accuracy: 0.7091\n",
      "Epoch 67/140\n",
      "240/240 [==============================] - 18s 76ms/step - loss: 1.0518 - accuracy: 0.5516 - val_loss: 0.7812 - val_accuracy: 0.6796\n",
      "Epoch 68/140\n",
      "240/240 [==============================] - 18s 76ms/step - loss: 1.0107 - accuracy: 0.5688 - val_loss: 0.7093 - val_accuracy: 0.7350\n",
      "Epoch 69/140\n",
      "240/240 [==============================] - 18s 76ms/step - loss: 1.0428 - accuracy: 0.5651 - val_loss: 0.7749 - val_accuracy: 0.7091\n",
      "Epoch 70/140\n",
      "240/240 [==============================] - 18s 76ms/step - loss: 1.0524 - accuracy: 0.5513 - val_loss: 0.8012 - val_accuracy: 0.6737\n",
      "Epoch 71/140\n",
      "240/240 [==============================] - 18s 76ms/step - loss: 1.0158 - accuracy: 0.5668 - val_loss: 0.7117 - val_accuracy: 0.7244\n",
      "Epoch 72/140\n",
      "240/240 [==============================] - 18s 76ms/step - loss: 1.0082 - accuracy: 0.5859 - val_loss: 0.7226 - val_accuracy: 0.7185\n",
      "Epoch 73/140\n",
      "240/240 [==============================] - 18s 76ms/step - loss: 1.0209 - accuracy: 0.5743 - val_loss: 0.7135 - val_accuracy: 0.6949\n",
      "Epoch 74/140\n",
      "240/240 [==============================] - 18s 76ms/step - loss: 1.0221 - accuracy: 0.5605 - val_loss: 0.7183 - val_accuracy: 0.7150\n",
      "Epoch 75/140\n",
      "240/240 [==============================] - 18s 76ms/step - loss: 1.0097 - accuracy: 0.5763 - val_loss: 0.7153 - val_accuracy: 0.7409\n",
      "Epoch 76/140\n",
      "240/240 [==============================] - 18s 76ms/step - loss: 1.0207 - accuracy: 0.5725 - val_loss: 0.7131 - val_accuracy: 0.7362\n",
      "Epoch 77/140\n",
      "240/240 [==============================] - 18s 76ms/step - loss: 1.0002 - accuracy: 0.5786 - val_loss: 0.6805 - val_accuracy: 0.7680\n",
      "Epoch 78/140\n",
      "240/240 [==============================] - 18s 76ms/step - loss: 0.9922 - accuracy: 0.5883 - val_loss: 0.7489 - val_accuracy: 0.7032\n",
      "Epoch 79/140\n",
      "240/240 [==============================] - 19s 77ms/step - loss: 1.0138 - accuracy: 0.5693 - val_loss: 0.6769 - val_accuracy: 0.7420\n",
      "Epoch 80/140\n",
      "240/240 [==============================] - 18s 76ms/step - loss: 0.9881 - accuracy: 0.5783 - val_loss: 0.7049 - val_accuracy: 0.7197\n",
      "Epoch 81/140\n",
      "240/240 [==============================] - 18s 76ms/step - loss: 1.0058 - accuracy: 0.5870 - val_loss: 0.7189 - val_accuracy: 0.7102\n",
      "Epoch 82/140\n",
      "240/240 [==============================] - 18s 76ms/step - loss: 0.9974 - accuracy: 0.5837 - val_loss: 0.6712 - val_accuracy: 0.7409\n",
      "Epoch 83/140\n",
      "240/240 [==============================] - 18s 76ms/step - loss: 0.9883 - accuracy: 0.5883 - val_loss: 0.6581 - val_accuracy: 0.7633\n",
      "Epoch 84/140\n",
      "240/240 [==============================] - 18s 76ms/step - loss: 0.9898 - accuracy: 0.5841 - val_loss: 0.6968 - val_accuracy: 0.7044\n",
      "Epoch 85/140\n",
      "240/240 [==============================] - 18s 76ms/step - loss: 1.0021 - accuracy: 0.5823 - val_loss: 0.6830 - val_accuracy: 0.7279\n",
      "Epoch 86/140\n",
      "240/240 [==============================] - 18s 76ms/step - loss: 1.0095 - accuracy: 0.5767 - val_loss: 0.7497 - val_accuracy: 0.6973\n",
      "Epoch 87/140\n",
      "240/240 [==============================] - 18s 76ms/step - loss: 1.0105 - accuracy: 0.5823 - val_loss: 0.6634 - val_accuracy: 0.7444\n",
      "Epoch 88/140\n",
      "240/240 [==============================] - 18s 76ms/step - loss: 0.9880 - accuracy: 0.5859 - val_loss: 0.7113 - val_accuracy: 0.7067\n",
      "Epoch 89/140\n",
      "240/240 [==============================] - 18s 76ms/step - loss: 1.0088 - accuracy: 0.5758 - val_loss: 0.6662 - val_accuracy: 0.7644\n",
      "Epoch 90/140\n",
      "240/240 [==============================] - 18s 77ms/step - loss: 0.9887 - accuracy: 0.5938 - val_loss: 0.7066 - val_accuracy: 0.7161\n",
      "Epoch 91/140\n",
      "240/240 [==============================] - 18s 76ms/step - loss: 0.9865 - accuracy: 0.5871 - val_loss: 0.7273 - val_accuracy: 0.7102\n",
      "Epoch 92/140\n",
      "240/240 [==============================] - 18s 76ms/step - loss: 0.9814 - accuracy: 0.5919 - val_loss: 0.7028 - val_accuracy: 0.7491\n",
      "Epoch 93/140\n",
      "240/240 [==============================] - 18s 76ms/step - loss: 0.9934 - accuracy: 0.5887 - val_loss: 0.7066 - val_accuracy: 0.6949\n",
      "Epoch 94/140\n",
      "240/240 [==============================] - 18s 76ms/step - loss: 0.9744 - accuracy: 0.5898 - val_loss: 0.6788 - val_accuracy: 0.7515\n",
      "Epoch 95/140\n",
      "240/240 [==============================] - 18s 76ms/step - loss: 0.9870 - accuracy: 0.5923 - val_loss: 0.7100 - val_accuracy: 0.7362\n",
      "Epoch 96/140\n",
      "240/240 [==============================] - 18s 76ms/step - loss: 0.9942 - accuracy: 0.5902 - val_loss: 0.7097 - val_accuracy: 0.7432\n",
      "Epoch 97/140\n",
      "240/240 [==============================] - 18s 77ms/step - loss: 0.9860 - accuracy: 0.5863 - val_loss: 0.6673 - val_accuracy: 0.7668\n",
      "Epoch 98/140\n",
      "240/240 [==============================] - 18s 76ms/step - loss: 0.9826 - accuracy: 0.5964 - val_loss: 0.6958 - val_accuracy: 0.7468\n",
      "Epoch 99/140\n",
      "240/240 [==============================] - 18s 76ms/step - loss: 0.9756 - accuracy: 0.5984 - val_loss: 0.7597 - val_accuracy: 0.7185\n",
      "Epoch 100/140\n",
      "240/240 [==============================] - 18s 76ms/step - loss: 0.9654 - accuracy: 0.6038 - val_loss: 0.6845 - val_accuracy: 0.7373\n",
      "Epoch 101/140\n",
      "240/240 [==============================] - 19s 77ms/step - loss: 0.9729 - accuracy: 0.5960 - val_loss: 0.6300 - val_accuracy: 0.7680\n",
      "Epoch 102/140\n",
      "240/240 [==============================] - 18s 76ms/step - loss: 0.9584 - accuracy: 0.6012 - val_loss: 0.6603 - val_accuracy: 0.7432\n",
      "Epoch 103/140\n",
      "240/240 [==============================] - 18s 76ms/step - loss: 0.9680 - accuracy: 0.6055 - val_loss: 0.7065 - val_accuracy: 0.7373\n",
      "Epoch 104/140\n",
      "240/240 [==============================] - 18s 76ms/step - loss: 0.9516 - accuracy: 0.6021 - val_loss: 0.6253 - val_accuracy: 0.7597\n",
      "Epoch 105/140\n",
      "240/240 [==============================] - 18s 76ms/step - loss: 0.9630 - accuracy: 0.6008 - val_loss: 0.7221 - val_accuracy: 0.7291\n",
      "Epoch 106/140\n",
      "240/240 [==============================] - 18s 76ms/step - loss: 0.9568 - accuracy: 0.6072 - val_loss: 0.6757 - val_accuracy: 0.7468\n",
      "Epoch 107/140\n",
      "240/240 [==============================] - 18s 76ms/step - loss: 0.9727 - accuracy: 0.6025 - val_loss: 0.6525 - val_accuracy: 0.7527\n",
      "Epoch 108/140\n",
      "240/240 [==============================] - 18s 77ms/step - loss: 0.9422 - accuracy: 0.6216 - val_loss: 0.6190 - val_accuracy: 0.7515\n",
      "Epoch 109/140\n",
      "240/240 [==============================] - 18s 76ms/step - loss: 0.9497 - accuracy: 0.6048 - val_loss: 0.6434 - val_accuracy: 0.7479\n",
      "Epoch 110/140\n",
      "240/240 [==============================] - 18s 76ms/step - loss: 0.9608 - accuracy: 0.6061 - val_loss: 0.7879 - val_accuracy: 0.7185\n",
      "Epoch 111/140\n",
      "240/240 [==============================] - 18s 76ms/step - loss: 0.9643 - accuracy: 0.6072 - val_loss: 0.6351 - val_accuracy: 0.7892\n",
      "Epoch 112/140\n",
      "240/240 [==============================] - 18s 76ms/step - loss: 0.9789 - accuracy: 0.6014 - val_loss: 0.6248 - val_accuracy: 0.7786\n",
      "Epoch 113/140\n",
      "240/240 [==============================] - 18s 76ms/step - loss: 0.9582 - accuracy: 0.5974 - val_loss: 0.6563 - val_accuracy: 0.7833\n",
      "Epoch 114/140\n",
      "240/240 [==============================] - 18s 76ms/step - loss: 0.9849 - accuracy: 0.5993 - val_loss: 0.6579 - val_accuracy: 0.7574\n",
      "Epoch 115/140\n",
      "240/240 [==============================] - 18s 76ms/step - loss: 0.9697 - accuracy: 0.6053 - val_loss: 0.6167 - val_accuracy: 0.7621\n",
      "Epoch 116/140\n",
      "240/240 [==============================] - 18s 76ms/step - loss: 0.9238 - accuracy: 0.6190 - val_loss: 0.6371 - val_accuracy: 0.7527\n",
      "Epoch 117/140\n",
      "240/240 [==============================] - 18s 76ms/step - loss: 0.9345 - accuracy: 0.6195 - val_loss: 0.6193 - val_accuracy: 0.7574\n",
      "Epoch 118/140\n",
      "240/240 [==============================] - 18s 76ms/step - loss: 0.9407 - accuracy: 0.6078 - val_loss: 0.6187 - val_accuracy: 0.7739\n",
      "Epoch 119/140\n",
      "240/240 [==============================] - 18s 76ms/step - loss: 0.9334 - accuracy: 0.6074 - val_loss: 0.6482 - val_accuracy: 0.7727\n",
      "Epoch 120/140\n",
      "240/240 [==============================] - 18s 76ms/step - loss: 0.9339 - accuracy: 0.6240 - val_loss: 0.6018 - val_accuracy: 0.8033\n",
      "Epoch 121/140\n",
      "240/240 [==============================] - 18s 76ms/step - loss: 0.9326 - accuracy: 0.6202 - val_loss: 0.5674 - val_accuracy: 0.7986\n",
      "Epoch 122/140\n",
      "240/240 [==============================] - 18s 76ms/step - loss: 0.9518 - accuracy: 0.6096 - val_loss: 0.6456 - val_accuracy: 0.7691\n",
      "Epoch 123/140\n",
      "240/240 [==============================] - 18s 76ms/step - loss: 0.9599 - accuracy: 0.6033 - val_loss: 0.7027 - val_accuracy: 0.7350\n",
      "Epoch 124/140\n",
      "240/240 [==============================] - 18s 77ms/step - loss: 0.9213 - accuracy: 0.6285 - val_loss: 0.5856 - val_accuracy: 0.7986\n",
      "Epoch 125/140\n",
      "240/240 [==============================] - 18s 76ms/step - loss: 0.9277 - accuracy: 0.6195 - val_loss: 0.6523 - val_accuracy: 0.7892\n",
      "Epoch 126/140\n",
      "240/240 [==============================] - 18s 76ms/step - loss: 0.9379 - accuracy: 0.6125 - val_loss: 0.5738 - val_accuracy: 0.7892\n",
      "Epoch 127/140\n",
      "240/240 [==============================] - 18s 76ms/step - loss: 0.9379 - accuracy: 0.6262 - val_loss: 0.6179 - val_accuracy: 0.7786\n",
      "Epoch 128/140\n",
      "240/240 [==============================] - 18s 76ms/step - loss: 0.9258 - accuracy: 0.6236 - val_loss: 0.5617 - val_accuracy: 0.8092\n",
      "Epoch 129/140\n",
      "240/240 [==============================] - 18s 76ms/step - loss: 0.9339 - accuracy: 0.6216 - val_loss: 0.5990 - val_accuracy: 0.7998\n",
      "Epoch 130/140\n",
      "240/240 [==============================] - 18s 76ms/step - loss: 0.9368 - accuracy: 0.6176 - val_loss: 0.5636 - val_accuracy: 0.8139\n",
      "Epoch 131/140\n",
      "240/240 [==============================] - 18s 76ms/step - loss: 0.9342 - accuracy: 0.6181 - val_loss: 0.5742 - val_accuracy: 0.8080\n",
      "Epoch 132/140\n",
      "240/240 [==============================] - 18s 76ms/step - loss: 0.9233 - accuracy: 0.6204 - val_loss: 0.6299 - val_accuracy: 0.7385\n",
      "Epoch 133/140\n",
      "240/240 [==============================] - 18s 76ms/step - loss: 0.9196 - accuracy: 0.6251 - val_loss: 0.5398 - val_accuracy: 0.8104\n",
      "Epoch 134/140\n",
      "240/240 [==============================] - 18s 76ms/step - loss: 0.9088 - accuracy: 0.6340 - val_loss: 0.6154 - val_accuracy: 0.7668\n",
      "Epoch 135/140\n",
      "240/240 [==============================] - 18s 76ms/step - loss: 0.9232 - accuracy: 0.6281 - val_loss: 0.5683 - val_accuracy: 0.7939\n",
      "Epoch 136/140\n",
      "240/240 [==============================] - 18s 76ms/step - loss: 0.9226 - accuracy: 0.6268 - val_loss: 0.5463 - val_accuracy: 0.8257\n",
      "Epoch 137/140\n",
      "240/240 [==============================] - 18s 76ms/step - loss: 0.9058 - accuracy: 0.6345 - val_loss: 0.5917 - val_accuracy: 0.8233\n",
      "Epoch 138/140\n",
      "240/240 [==============================] - 18s 76ms/step - loss: 0.9273 - accuracy: 0.6204 - val_loss: 0.5486 - val_accuracy: 0.8033\n",
      "Epoch 139/140\n",
      "240/240 [==============================] - 18s 76ms/step - loss: 0.9054 - accuracy: 0.6288 - val_loss: 0.5745 - val_accuracy: 0.7892\n",
      "Epoch 140/140\n",
      "240/240 [==============================] - 18s 76ms/step - loss: 0.9322 - accuracy: 0.6236 - val_loss: 0.6806 - val_accuracy: 0.7503\n"
     ]
    }
   ],
   "source": [
    "history = model.fit(\n",
    "    train,\n",
    "    validation_data = val,\n",
    "    epochs = 140)"
   ]
  },
  {
   "cell_type": "code",
   "execution_count": null,
   "id": "c3d4b2cf-1428-48fb-9b5d-1c493a1f612d",
   "metadata": {},
   "outputs": [],
   "source": []
  }
 ],
 "metadata": {
  "kernelspec": {
   "display_name": "Python 3 (ipykernel)",
   "language": "python",
   "name": "python3"
  },
  "language_info": {
   "codemirror_mode": {
    "name": "ipython",
    "version": 3
   },
   "file_extension": ".py",
   "mimetype": "text/x-python",
   "name": "python",
   "nbconvert_exporter": "python",
   "pygments_lexer": "ipython3",
   "version": "3.8.13"
  }
 },
 "nbformat": 4,
 "nbformat_minor": 5
}
